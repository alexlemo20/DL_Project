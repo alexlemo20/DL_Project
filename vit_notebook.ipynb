{
 "cells": [
  {
   "cell_type": "code",
   "execution_count": 3,
   "metadata": {},
   "outputs": [
    {
     "name": "stdout",
     "output_type": "stream",
     "text": [
      "WARNING:tensorflow:From c:\\Users\\alexa\\AppData\\Local\\Programs\\Python\\Python310\\lib\\site-packages\\keras\\src\\losses.py:2976: The name tf.losses.sparse_softmax_cross_entropy is deprecated. Please use tf.compat.v1.losses.sparse_softmax_cross_entropy instead.\n",
      "\n"
     ]
    }
   ],
   "source": [
    "import numpy as np\n",
    "import matplotlib.pyplot as plt\n",
    "from helper_methods import get_train_val, create_dataset, show_images, load_and_transform_image\n",
    "\n",
    "import torch\n",
    "import torch.nn as nn\n",
    "import torch.nn.functional as F\n",
    "import torchvision.models as models\n",
    "from torchvision.models import ResNet18_Weights\n",
    "from torch.utils.data import TensorDataset, DataLoader\n",
    "from transformers import AutoImageProcessor, ViTForImageClassification\n",
    "from transformers import ViTImageProcessor"
   ]
  },
  {
   "cell_type": "code",
   "execution_count": 2,
   "metadata": {},
   "outputs": [
    {
     "ename": "",
     "evalue": "",
     "output_type": "error",
     "traceback": [
      "\u001b[1;31mThe Kernel crashed while executing code in the current cell or a previous cell. \n",
      "\u001b[1;31mPlease review the code in the cell(s) to identify a possible cause of the failure. \n",
      "\u001b[1;31mClick <a href='https://aka.ms/vscodeJupyterKernelCrash'>here</a> for more info. \n",
      "\u001b[1;31mView Jupyter <a href='command:jupyter.viewOutput'>log</a> for further details."
     ]
    }
   ],
   "source": [
    "# Step 1: Uninstall existing libraries\n",
    "#pip uninstall transformers accelerate -y\n",
    "\n",
    "# Step 2: Install required libraries\n",
    "#pip install transformers[torch] accelerate\n",
    "\n",
    "# Restart the runtime manually via the \"Runtime\" menu or by running:\n",
    "import os\n",
    "os.kill(os.getpid(), 9)"
   ]
  },
  {
   "cell_type": "code",
   "execution_count": 4,
   "metadata": {},
   "outputs": [],
   "source": [
    "df_train, df_val = get_train_val(filepath='C:\\\\Users\\\\alexa\\\\Documents\\\\Deep Learning\\\\Project\\\\datasets\\\\annotations\\\\annotations\\\\trainval.txt', val_size=0.2)\n",
    "# C:\\\\Users\\\\alexa\\\\Documents\\\\Deep Learning\\\\Project\\\\datasets\\\\images\\\\images\\\\\n",
    "\n",
    "X_train, Y_train = create_dataset(df_train, base_path='C:\\\\Users\\\\alexa\\\\Documents\\\\Deep Learning\\\\Project\\\\datasets\\\\images\\\\images\\\\')\n",
    "X_val, Y_val = create_dataset(df_val, base_path='C:\\\\Users\\\\alexa\\\\Documents\\\\Deep Learning\\\\Project\\\\datasets\\\\images\\\\images\\\\')\n",
    "\n",
    "Y_train = Y_train.long()\n",
    "Y_val = Y_val.long()"
   ]
  },
  {
   "cell_type": "code",
   "execution_count": 5,
   "metadata": {},
   "outputs": [
    {
     "name": "stdout",
     "output_type": "stream",
     "text": [
      "tensor([ 0,  1,  2,  3,  4,  5,  6,  7,  8,  9, 10, 11, 12, 13, 14, 15, 16, 17,\n",
      "        18, 19, 20, 21, 22, 23, 24, 25, 26, 27, 28, 29, 30, 31, 32, 33, 34, 35,\n",
      "        36])\n",
      "[0, 1, 2, 3, 4, 5, 6, 7, 8, 9, 10, 11, 12, 13, 14, 15, 16, 17, 18, 19, 20, 21, 22, 23, 24, 25, 26, 27, 28, 29, 30, 31, 32, 33, 34, 35, 36]\n"
     ]
    }
   ],
   "source": [
    "labels = torch.unique(Y_train)\n",
    "print(labels)\n",
    "print(labels.tolist())"
   ]
  },
  {
   "cell_type": "code",
   "execution_count": 6,
   "metadata": {},
   "outputs": [
    {
     "name": "stdout",
     "output_type": "stream",
     "text": [
      "Collecting dataset\n",
      "  Downloading dataset-1.6.2-py2.py3-none-any.whl.metadata (1.9 kB)\n",
      "Collecting sqlalchemy<2.0.0,>=1.3.2 (from dataset)\n",
      "  Downloading SQLAlchemy-1.4.52-cp310-cp310-win_amd64.whl.metadata (10 kB)\n",
      "Collecting alembic>=0.6.2 (from dataset)\n",
      "  Downloading alembic-1.13.1-py3-none-any.whl.metadata (7.4 kB)\n",
      "Collecting banal>=1.0.1 (from dataset)\n",
      "  Downloading banal-1.0.6-py2.py3-none-any.whl.metadata (1.4 kB)\n",
      "Collecting Mako (from alembic>=0.6.2->dataset)\n",
      "  Downloading Mako-1.3.5-py3-none-any.whl.metadata (2.9 kB)\n",
      "Requirement already satisfied: typing-extensions>=4 in c:\\users\\alexa\\appdata\\local\\programs\\python\\python310\\lib\\site-packages (from alembic>=0.6.2->dataset) (4.4.0)\n",
      "Collecting greenlet!=0.4.17 (from sqlalchemy<2.0.0,>=1.3.2->dataset)\n",
      "  Downloading greenlet-3.0.3-cp310-cp310-win_amd64.whl.metadata (3.9 kB)\n",
      "Requirement already satisfied: MarkupSafe>=0.9.2 in c:\\users\\alexa\\appdata\\local\\programs\\python\\python310\\lib\\site-packages (from Mako->alembic>=0.6.2->dataset) (2.1.2)\n",
      "Downloading dataset-1.6.2-py2.py3-none-any.whl (18 kB)\n",
      "Downloading alembic-1.13.1-py3-none-any.whl (233 kB)\n",
      "   ---------------------------------------- 0.0/233.4 kB ? eta -:--:--\n",
      "   - -------------------------------------- 10.2/233.4 kB ? eta -:--:--\n",
      "   ----- ---------------------------------- 30.7/233.4 kB 1.4 MB/s eta 0:00:01\n",
      "   ---------- ---------------------------- 61.4/233.4 kB 550.5 kB/s eta 0:00:01\n",
      "   ------------- ------------------------- 81.9/233.4 kB 657.6 kB/s eta 0:00:01\n",
      "   ------------------ ------------------- 112.6/233.4 kB 656.4 kB/s eta 0:00:01\n",
      "   -------------------- ----------------- 122.9/233.4 kB 554.9 kB/s eta 0:00:01\n",
      "   -------------------------- ----------- 163.8/233.4 kB 614.4 kB/s eta 0:00:01\n",
      "   --------------------------------- ---- 204.8/233.4 kB 623.6 kB/s eta 0:00:01\n",
      "   ------------------------------------ - 225.3/233.4 kB 626.9 kB/s eta 0:00:01\n",
      "   -------------------------------------- 233.4/233.4 kB 595.2 kB/s eta 0:00:00\n",
      "Downloading banal-1.0.6-py2.py3-none-any.whl (6.1 kB)\n",
      "Downloading SQLAlchemy-1.4.52-cp310-cp310-win_amd64.whl (1.6 MB)\n",
      "   ---------------------------------------- 0.0/1.6 MB ? eta -:--:--\n",
      "   ---------------------------------------- 0.0/1.6 MB ? eta -:--:--\n",
      "    --------------------------------------- 0.0/1.6 MB 435.7 kB/s eta 0:00:04\n",
      "   -- ------------------------------------- 0.1/1.6 MB 919.0 kB/s eta 0:00:02\n",
      "   -- ------------------------------------- 0.1/1.6 MB 581.0 kB/s eta 0:00:03\n",
      "   --- ------------------------------------ 0.1/1.6 MB 599.1 kB/s eta 0:00:03\n",
      "   ---- ----------------------------------- 0.2/1.6 MB 653.6 kB/s eta 0:00:03\n",
      "   ---- ----------------------------------- 0.2/1.6 MB 615.9 kB/s eta 0:00:03\n",
      "   ----- ---------------------------------- 0.2/1.6 MB 593.2 kB/s eta 0:00:03\n",
      "   ------ --------------------------------- 0.2/1.6 MB 628.1 kB/s eta 0:00:03\n",
      "   ------ --------------------------------- 0.2/1.6 MB 628.1 kB/s eta 0:00:03\n",
      "   ------ --------------------------------- 0.2/1.6 MB 628.1 kB/s eta 0:00:03\n",
      "   ------ --------------------------------- 0.2/1.6 MB 628.1 kB/s eta 0:00:03\n",
      "   ------ --------------------------------- 0.2/1.6 MB 628.1 kB/s eta 0:00:03\n",
      "   ------- -------------------------------- 0.3/1.6 MB 486.8 kB/s eta 0:00:03\n",
      "   --------- ------------------------------ 0.4/1.6 MB 530.7 kB/s eta 0:00:03\n",
      "   ---------- ----------------------------- 0.4/1.6 MB 568.1 kB/s eta 0:00:03\n",
      "   ----------- ---------------------------- 0.4/1.6 MB 573.4 kB/s eta 0:00:03\n",
      "   ----------- ---------------------------- 0.5/1.6 MB 590.0 kB/s eta 0:00:02\n",
      "   ------------ --------------------------- 0.5/1.6 MB 593.6 kB/s eta 0:00:02\n",
      "   ------------- -------------------------- 0.5/1.6 MB 596.8 kB/s eta 0:00:02\n",
      "   -------------- ------------------------- 0.6/1.6 MB 621.6 kB/s eta 0:00:02\n",
      "   --------------- ------------------------ 0.6/1.6 MB 623.5 kB/s eta 0:00:02\n",
      "   ---------------- ----------------------- 0.7/1.6 MB 635.0 kB/s eta 0:00:02\n",
      "   ----------------- ---------------------- 0.7/1.6 MB 635.8 kB/s eta 0:00:02\n",
      "   ------------------ --------------------- 0.7/1.6 MB 645.9 kB/s eta 0:00:02\n",
      "   ------------------- -------------------- 0.8/1.6 MB 664.1 kB/s eta 0:00:02\n",
      "   -------------------- ------------------- 0.8/1.6 MB 663.7 kB/s eta 0:00:02\n",
      "   -------------------- ------------------- 0.8/1.6 MB 663.3 kB/s eta 0:00:02\n",
      "   --------------------- ------------------ 0.9/1.6 MB 663.2 kB/s eta 0:00:02\n",
      "   ---------------------- ----------------- 0.9/1.6 MB 678.6 kB/s eta 0:00:02\n",
      "   ----------------------- ---------------- 0.9/1.6 MB 669.9 kB/s eta 0:00:01\n",
      "   ------------------------ --------------- 1.0/1.6 MB 683.6 kB/s eta 0:00:01\n",
      "   ------------------------- -------------- 1.0/1.6 MB 683.1 kB/s eta 0:00:01\n",
      "   -------------------------- ------------- 1.0/1.6 MB 689.5 kB/s eta 0:00:01\n",
      "   --------------------------- ------------ 1.1/1.6 MB 688.4 kB/s eta 0:00:01\n",
      "   --------------------------- ------------ 1.1/1.6 MB 680.5 kB/s eta 0:00:01\n",
      "   ----------------------------- ---------- 1.2/1.6 MB 685.9 kB/s eta 0:00:01\n",
      "   ----------------------------- ---------- 1.2/1.6 MB 685.5 kB/s eta 0:00:01\n",
      "   ------------------------------ --------- 1.2/1.6 MB 678.8 kB/s eta 0:00:01\n",
      "   ------------------------------- -------- 1.2/1.6 MB 689.9 kB/s eta 0:00:01\n",
      "   ------------------------------- -------- 1.3/1.6 MB 683.0 kB/s eta 0:00:01\n",
      "   --------------------------------- ------ 1.3/1.6 MB 687.7 kB/s eta 0:00:01\n",
      "   --------------------------------- ------ 1.4/1.6 MB 692.2 kB/s eta 0:00:01\n",
      "   --------------------------------- ------ 1.4/1.6 MB 692.2 kB/s eta 0:00:01\n",
      "   ----------------------------------- ---- 1.4/1.6 MB 695.9 kB/s eta 0:00:01\n",
      "   ------------------------------------ --- 1.4/1.6 MB 689.9 kB/s eta 0:00:01\n",
      "   ------------------------------------ --- 1.5/1.6 MB 684.3 kB/s eta 0:00:01\n",
      "   ------------------------------------- -- 1.5/1.6 MB 688.3 kB/s eta 0:00:01\n",
      "   -------------------------------------- - 1.5/1.6 MB 687.9 kB/s eta 0:00:01\n",
      "   ---------------------------------------  1.6/1.6 MB 696.4 kB/s eta 0:00:01\n",
      "   ---------------------------------------  1.6/1.6 MB 691.3 kB/s eta 0:00:01\n",
      "   ---------------------------------------- 1.6/1.6 MB 679.2 kB/s eta 0:00:00\n",
      "Downloading greenlet-3.0.3-cp310-cp310-win_amd64.whl (292 kB)\n",
      "   ---------------------------------------- 0.0/292.3 kB ? eta -:--:--\n",
      "   - -------------------------------------- 10.2/292.3 kB ? eta -:--:--\n",
      "   ----- --------------------------------- 41.0/292.3 kB 495.5 kB/s eta 0:00:01\n",
      "   ----- --------------------------------- 41.0/292.3 kB 495.5 kB/s eta 0:00:01\n",
      "   --------------- ---------------------- 122.9/292.3 kB 722.1 kB/s eta 0:00:01\n",
      "   ------------------ ------------------- 143.4/292.3 kB 711.9 kB/s eta 0:00:01\n",
      "   ----------------------- -------------- 184.3/292.3 kB 696.3 kB/s eta 0:00:01\n",
      "   ----------------------------- -------- 225.3/292.3 kB 724.0 kB/s eta 0:00:01\n",
      "   ------------------------------ ------- 235.5/292.3 kB 722.1 kB/s eta 0:00:01\n",
      "   ---------------------------------- --- 266.2/292.3 kB 713.1 kB/s eta 0:00:01\n",
      "   -------------------------------------- 292.3/292.3 kB 645.6 kB/s eta 0:00:00\n",
      "Downloading Mako-1.3.5-py3-none-any.whl (78 kB)\n",
      "   ---------------------------------------- 0.0/78.6 kB ? eta -:--:--\n",
      "   --------------- ------------------------ 30.7/78.6 kB ? eta -:--:--\n",
      "   ------------------------------------ --- 71.7/78.6 kB 991.0 kB/s eta 0:00:01\n",
      "   ---------------------------------------- 78.6/78.6 kB 726.9 kB/s eta 0:00:00\n",
      "Installing collected packages: banal, Mako, greenlet, sqlalchemy, alembic, dataset\n",
      "Successfully installed Mako-1.3.5 alembic-1.13.1 banal-1.0.6 dataset-1.6.2 greenlet-3.0.3 sqlalchemy-1.4.52\n",
      "Note: you may need to restart the kernel to use updated packages.\n"
     ]
    },
    {
     "name": "stderr",
     "output_type": "stream",
     "text": [
      "\n",
      "[notice] A new release of pip is available: 23.3.2 -> 24.0\n",
      "[notice] To update, run: python.exe -m pip install --upgrade pip\n"
     ]
    }
   ],
   "source": [
    "pip install dataset"
   ]
  },
  {
   "cell_type": "code",
   "execution_count": 6,
   "metadata": {},
   "outputs": [
    {
     "name": "stdout",
     "output_type": "stream",
     "text": [
      "<class 'pandas.core.frame.DataFrame'>\n",
      "<class 'pandas.core.frame.DataFrame'>\n",
      "<class 'datasets.arrow_dataset.Dataset'>\n",
      "<class 'datasets.arrow_dataset.Dataset'>\n",
      "Dataset({\n",
      "    features: ['image_id', 'class_id', 'species', 'breed', '__index_level_0__'],\n",
      "    num_rows: 2944\n",
      "})\n"
     ]
    }
   ],
   "source": [
    "from datasets import Dataset\n",
    "\n",
    "print(type(df_train))\n",
    "print(type(df_val))\n",
    "train_dataset = Dataset.from_pandas(df_train)\n",
    "val_dataset = Dataset.from_pandas(df_val)\n",
    "print(type(train_dataset))\n",
    "print(type(val_dataset))\n",
    "print(train_dataset)\n"
   ]
  },
  {
   "cell_type": "code",
   "execution_count": 7,
   "metadata": {},
   "outputs": [
    {
     "name": "stderr",
     "output_type": "stream",
     "text": [
      "c:\\Users\\alexa\\AppData\\Local\\Programs\\Python\\Python310\\lib\\site-packages\\huggingface_hub\\file_download.py:1132: FutureWarning: `resume_download` is deprecated and will be removed in version 1.0.0. Downloads always resume when possible. If you want to force a new download, use `force_download=True`.\n",
      "  warnings.warn(\n",
      "Some weights of ViTForImageClassification were not initialized from the model checkpoint at google/vit-base-patch16-224-in21k and are newly initialized: ['classifier.bias', 'classifier.weight']\n",
      "You should probably TRAIN this model on a down-stream task to be able to use it for predictions and inference.\n"
     ]
    }
   ],
   "source": [
    "model_name_or_path = 'google/vit-base-patch16-224-in21k'\n",
    "from transformers import ViTForImageClassification\n",
    "labels = torch.unique(Y_train)\n",
    "labels = labels.tolist()\n",
    "model = ViTForImageClassification.from_pretrained(\n",
    "    model_name_or_path,\n",
    "    num_labels=torch.max(Y_train) + 1,\n",
    "    id2label={str(i): c for i, c in enumerate(labels)},\n",
    "    label2id={c: str(i) for i, c in enumerate(labels)}\n",
    ")\n"
   ]
  },
  {
   "cell_type": "code",
   "execution_count": 9,
   "metadata": {},
   "outputs": [
    {
     "data": {
      "text/plain": [
       "ViTForImageClassification(\n",
       "  (vit): ViTModel(\n",
       "    (embeddings): ViTEmbeddings(\n",
       "      (patch_embeddings): ViTPatchEmbeddings(\n",
       "        (projection): Conv2d(3, 768, kernel_size=(16, 16), stride=(16, 16))\n",
       "      )\n",
       "      (dropout): Dropout(p=0.0, inplace=False)\n",
       "    )\n",
       "    (encoder): ViTEncoder(\n",
       "      (layer): ModuleList(\n",
       "        (0-11): 12 x ViTLayer(\n",
       "          (attention): ViTAttention(\n",
       "            (attention): ViTSelfAttention(\n",
       "              (query): Linear(in_features=768, out_features=768, bias=True)\n",
       "              (key): Linear(in_features=768, out_features=768, bias=True)\n",
       "              (value): Linear(in_features=768, out_features=768, bias=True)\n",
       "              (dropout): Dropout(p=0.0, inplace=False)\n",
       "            )\n",
       "            (output): ViTSelfOutput(\n",
       "              (dense): Linear(in_features=768, out_features=768, bias=True)\n",
       "              (dropout): Dropout(p=0.0, inplace=False)\n",
       "            )\n",
       "          )\n",
       "          (intermediate): ViTIntermediate(\n",
       "            (dense): Linear(in_features=768, out_features=3072, bias=True)\n",
       "            (intermediate_act_fn): GELUActivation()\n",
       "          )\n",
       "          (output): ViTOutput(\n",
       "            (dense): Linear(in_features=3072, out_features=768, bias=True)\n",
       "            (dropout): Dropout(p=0.0, inplace=False)\n",
       "          )\n",
       "          (layernorm_before): LayerNorm((768,), eps=1e-12, elementwise_affine=True)\n",
       "          (layernorm_after): LayerNorm((768,), eps=1e-12, elementwise_affine=True)\n",
       "        )\n",
       "      )\n",
       "    )\n",
       "    (layernorm): LayerNorm((768,), eps=1e-12, elementwise_affine=True)\n",
       "  )\n",
       "  (classifier): Linear(in_features=768, out_features=37, bias=True)\n",
       ")"
      ]
     },
     "execution_count": 9,
     "metadata": {},
     "output_type": "execute_result"
    }
   ],
   "source": [
    "device = torch.device(\"cuda\" if torch.cuda.is_available() else \"cpu\")\n",
    "model.to(device)\n"
   ]
  },
  {
   "cell_type": "code",
   "execution_count": 8,
   "metadata": {},
   "outputs": [],
   "source": [
    "from transformers import ViTImageProcessor\n",
    "processor = ViTImageProcessor.from_pretrained(model_name_or_path)\n",
    "\n",
    "def transform(example_batch):\n",
    "    #print(example_batch) # Normally we want a tensor of 'pixel_values': tensor and 'labels': AS INPUTS\n",
    "    # Take a list of PIL images and turn them to pixel values\n",
    "    #inputs = processor([x for x in example_batch['image']], return_tensors='pt')\n",
    "    images_tensors = []\n",
    "    #Y = []\n",
    "    base_path = \"C:\\\\Users\\\\alexa\\\\Documents\\\\Deep Learning\\\\Project\\\\datasets\\\\images\\\\images\\\\\"\n",
    "    print(\"Example batch: \", example_batch)\n",
    "    for im_id in example_batch['image_id']:\n",
    "        #print(\"APOEL: \", im_id)\n",
    "        #image_id, species_id = row[0], row[2]\n",
    "        image_path = f\"{base_path}{im_id}.jpg\"  # Adjust format as needed\n",
    "        image_tensor = load_and_transform_image(image_path)\n",
    "        images_tensors.append(image_tensor)\n",
    "    #    Y.append(class_id)\n",
    "    \n",
    "    # Stack all tensors to create a single tensor\n",
    "    inputs = {}\n",
    "    inputs['pixel_values'] = torch.stack(images_tensors)\n",
    "    # Don't forget to include the labels!\n",
    "    #print(example_batch)\n",
    "    inputs['labels'] = example_batch['class_id']\n",
    "    #print(inputs)\n",
    "    return inputs\n",
    "prepared_df_train = train_dataset.with_transform(transform)\n",
    "prepared_df_val = val_dataset.with_transform(transform)\n"
   ]
  },
  {
   "cell_type": "code",
   "execution_count": 9,
   "metadata": {},
   "outputs": [
    {
     "name": "stderr",
     "output_type": "stream",
     "text": [
      "C:\\Users\\alexa\\AppData\\Local\\Temp\\ipykernel_2944\\2602130997.py:19: FutureWarning: load_metric is deprecated and will be removed in the next major version of datasets. Use 'evaluate.load' instead, from the new library 🤗 Evaluate: https://huggingface.co/docs/evaluate\n",
      "  metric = load_metric(\"accuracy\")\n",
      "c:\\Users\\alexa\\AppData\\Local\\Programs\\Python\\Python310\\lib\\site-packages\\datasets\\load.py:759: FutureWarning: The repository for accuracy contains custom code which must be executed to correctly load the metric. You can inspect the repository content at https://raw.githubusercontent.com/huggingface/datasets/2.19.1/metrics/accuracy/accuracy.py\n",
      "You can avoid this message in future by passing the argument `trust_remote_code=True`.\n",
      "Passing `trust_remote_code=True` will be mandatory to load this metric from the next major release of `datasets`.\n",
      "  warnings.warn(\n"
     ]
    }
   ],
   "source": [
    "#collate_fn,compute_metrics,prepared_ds[\"train\"],prepared_ds[\"validation\"],processor\n",
    "#from transformers import ViTImageProcessor\n",
    "#model_name_or_path = 'google/vit-base-patch16-224-in21k'\n",
    "#processor = ViTImageProcessor.from_pretrained(model_name_or_path)\n",
    "#def transform(example_batch):\n",
    "#    # Take a list of PIL images and turn them to pixel values\n",
    "#    inputs = processor([x for x in example_batch['image']], return_tensors='pt')\n",
    "#    # Don't forget to include the labels!\n",
    "#    inputs['labels'] = example_batch['labels']\n",
    "#    return inputs\n",
    "#prepared_ds = ds.with_transform(transform)\n",
    "\n",
    "def collate_fn(batch):\n",
    "    return {\n",
    "        'pixel_values': torch.stack([x['pixel_values'] for x in batch]),\n",
    "        'labels': torch.tensor([x['labels'] for x in batch])\n",
    "    }\n",
    "from datasets import load_metric\n",
    "metric = load_metric(\"accuracy\")\n",
    "def compute_metrics(p):\n",
    "    return metric.compute(predictions=np.argmax(p.predictions, axis=1), references=p.label_ids)\n"
   ]
  },
  {
   "cell_type": "code",
   "execution_count": 10,
   "metadata": {},
   "outputs": [
    {
     "name": "stdout",
     "output_type": "stream",
     "text": [
      "Transformers version: 4.40.2\n",
      "Accelerate version: 0.30.1\n"
     ]
    }
   ],
   "source": [
    "import transformers\n",
    "import accelerate\n",
    "\n",
    "print(f\"Transformers version: {transformers.__version__}\")\n",
    "print(f\"Accelerate version: {accelerate.__version__}\")"
   ]
  },
  {
   "cell_type": "code",
   "execution_count": 11,
   "metadata": {},
   "outputs": [],
   "source": [
    "\n",
    "from transformers import TrainingArguments\n",
    "\n",
    "training_args = TrainingArguments(\n",
    "  output_dir=\"C:\\\\Users\\\\alexa\\\\Documents\\\\Deep Learning\\\\Project\\\\outputs\",\n",
    "  per_device_train_batch_size=2, # 16\n",
    "  evaluation_strategy=\"steps\",\n",
    "  num_train_epochs=4,\n",
    "  fp16=True, # True\n",
    "  #fp16=torch.cuda.is_available(),\n",
    "\n",
    "\n",
    "  save_steps=100,\n",
    "  eval_steps=100,\n",
    "  logging_steps=10,\n",
    "  learning_rate=2e-4,\n",
    "  save_total_limit=2,\n",
    "  remove_unused_columns=False,\n",
    "  push_to_hub=False,\n",
    "  report_to='tensorboard',\n",
    "  load_best_model_at_end=True,\n",
    "\n",
    "  \n",
    "\n",
    ")\n",
    "  "
   ]
  },
  {
   "cell_type": "code",
   "execution_count": 12,
   "metadata": {},
   "outputs": [],
   "source": [
    "#CUDA_LAUNCH_BLOCKING=1\n",
    "\n",
    "from transformers import Trainer\n",
    "\n",
    "trainer = Trainer(\n",
    "    model=model,\n",
    "    args=training_args,\n",
    "    data_collator=collate_fn,\n",
    "    compute_metrics=compute_metrics,\n",
    "    # <class 'datasets.arrow_dataset.Dataset'> should be given while we give <class 'pandas.core.frame.DataFrame'>\n",
    "    #train_dataset=prepared_ds[\"train\"], \n",
    "    train_dataset=prepared_df_train, #df_train, train_dataset\n",
    "\n",
    "    #eval_dataset=prepared_ds[\"validation\"],\n",
    "    eval_dataset=prepared_df_val, #df_val, val_dataset\n",
    "    tokenizer=processor,\n",
    ")\n"
   ]
  },
  {
   "cell_type": "code",
   "execution_count": null,
   "metadata": {},
   "outputs": [],
   "source": [
    "import os\n",
    "os.environ[\"PYTORCH_CUDA_ALLOC_CONF\"] = \"max_split_size_mb:128\"\n",
    "\n",
    "torch.cuda.empty_cache()\n",
    "train_results = trainer.train()\n",
    "trainer.save_model()\n",
    "trainer.log_metrics(\"train\", train_results.metrics)\n",
    "trainer.save_metrics(\"train\", train_results.metrics)\n",
    "trainer.save_state()\n",
    "#metrics = trainer.evaluate(prepared_ds['validation'])\n",
    "metrics = trainer.evaluate(prepared_df_val) #df_val\n",
    "\n",
    "trainer.log_metrics(\"eval\", metrics)\n",
    "trainer.save_metrics(\"eval\", metrics)"
   ]
  },
  {
   "cell_type": "code",
   "execution_count": null,
   "metadata": {},
   "outputs": [],
   "source": []
  }
 ],
 "metadata": {
  "kernelspec": {
   "display_name": "Python 3",
   "language": "python",
   "name": "python3"
  },
  "language_info": {
   "codemirror_mode": {
    "name": "ipython",
    "version": 3
   },
   "file_extension": ".py",
   "mimetype": "text/x-python",
   "name": "python",
   "nbconvert_exporter": "python",
   "pygments_lexer": "ipython3",
   "version": "3.10.7"
  }
 },
 "nbformat": 4,
 "nbformat_minor": 2
}
