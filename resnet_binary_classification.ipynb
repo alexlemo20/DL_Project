{
 "cells": [
  {
   "cell_type": "code",
   "execution_count": 1,
   "metadata": {},
   "outputs": [],
   "source": [
    "import numpy as np\n",
    "import matplotlib.pyplot as plt\n",
    "from helper_methods import get_train_val, create_dataset, show_images\n",
    "\n",
    "import torch\n",
    "import torch.nn as nn\n",
    "import torch.nn.functional as F\n",
    "import torchvision.models as models\n",
    "from torchvision.models import ResNet18_Weights\n",
    "from torch.utils.data import TensorDataset, DataLoader"
   ]
  },
  {
   "cell_type": "code",
   "execution_count": 9,
   "metadata": {},
   "outputs": [],
   "source": [
    "df_train, df_val = get_train_val(filepath='C:\\\\Users\\\\alexa\\\\Documents\\\\Deep Learning\\\\Project\\\\datasets\\\\annotations\\\\annotations\\\\trainval.txt', val_size=0.2)\n",
    "\n",
    "# C:\\\\Users\\\\alexa\\\\Documents\\\\Deep Learning\\\\Project\\\\datasets\\\\images\\\\images\\\\\n",
    "\n",
    "X_train, Y_train = create_dataset(df_train, base_path='C:\\\\Users\\\\alexa\\\\Documents\\\\Deep Learning\\\\Project\\\\datasets\\\\images\\\\images\\\\')\n",
    "X_val, Y_val = create_dataset(df_val, base_path='C:\\\\Users\\\\alexa\\\\Documents\\\\Deep Learning\\\\Project\\\\datasets\\\\images\\\\images\\\\')\n",
    "\n",
    "Y_train = Y_train.long()\n",
    "Y_val = Y_val.long()"
   ]
  },
  {
   "cell_type": "markdown",
   "metadata": {},
   "source": [
    "### Defome the base class for Image Classification"
   ]
  },
  {
   "cell_type": "code",
   "execution_count": 4,
   "metadata": {},
   "outputs": [],
   "source": [
    "def accuracy(outputs, labels):\n",
    "    _, preds = torch.max(outputs, dim=1)\n",
    "    return torch.tensor(torch.sum(preds == labels).item() / len(preds))\n",
    "\n",
    "class ImageClassificationBase(nn.Module):\n",
    "    \n",
    "    def training_step(self, batch):\n",
    "        \n",
    "        images, labels = batch \n",
    "        out = self(images)                  \n",
    "        loss = F.cross_entropy(out, labels) \n",
    "        return loss\n",
    "    \n",
    "    def validation_step(self, batch):\n",
    "\n",
    "        images, labels = batch \n",
    "        out = self(images)\n",
    "        with torch.no_grad():\n",
    "            loss = F.cross_entropy(out, labels)   \n",
    "            acc = accuracy(out, labels)           \n",
    "        \n",
    "        return {'val_loss': loss.detach(), 'val_acc': acc}"
   ]
  },
  {
   "cell_type": "code",
   "execution_count": 5,
   "metadata": {},
   "outputs": [],
   "source": [
    "class DogsCatsCnnModelResNet18(ImageClassificationBase):\n",
    "    def __init__(self):\n",
    "        \n",
    "        super().__init__()\n",
    "        # Use a pretrained model\n",
    "        self.network = models.resnet18(weights=ResNet18_Weights.DEFAULT)\n",
    "        # Replace last layer\n",
    "        num_ftrs = self.network.fc.in_features\n",
    "        self.network.fc = nn.Linear(num_ftrs, 2)\n",
    "    \n",
    "    def forward(self, xb):\n",
    "        return torch.sigmoid(self.network(xb))"
   ]
  },
  {
   "cell_type": "code",
   "execution_count": 6,
   "metadata": {},
   "outputs": [],
   "source": [
    "@torch.no_grad()\n",
    "def evaluate(model: ImageClassificationBase, X_val, Y_val):\n",
    "\n",
    "    model.eval()\n",
    "    batch = [X_val, Y_val]\n",
    "    outputs = model.validation_step(batch)\n",
    "    \n",
    "    return outputs\n",
    "\n",
    "def fit(model: ImageClassificationBase, epochs, lr, X_train, Y_train, X_val, Y_val, batch_size=32, opt_func=torch.optim.SGD):\n",
    "\n",
    "    history = []\n",
    "    optimizer = opt_func(model.parameters(), lr)\n",
    "\n",
    "    # Create TensorDataset and DataLoader for training data\n",
    "    train_dataset = TensorDataset(X_train, Y_train)\n",
    "    train_loader = DataLoader(train_dataset, batch_size=batch_size, shuffle=True, num_workers=4)\n",
    "    \n",
    "    for epoch in range(epochs):\n",
    "        print(f\"Epoch: {epoch}\")\n",
    "                \n",
    "        # Training Phase \n",
    "        model.train()\n",
    "        train_losses = []\n",
    "        for i, batch in enumerate(train_loader):\n",
    "            print(f\"  - Batch {i}/{int(len(X_train) / batch_size)}\")\n",
    "            loss = model.training_step(batch)\n",
    "            train_losses.append(loss)\n",
    "            loss.backward()\n",
    "            optimizer.step()\n",
    "            optimizer.zero_grad()\n",
    "\n",
    "        # Validation phase\n",
    "        result = evaluate(model, X_val, Y_val)\n",
    "        print(f\"Epoch {epoch}, result: {result}\")\n",
    "        history.append(result)\n",
    "        \n",
    "    return history"
   ]
  },
  {
   "cell_type": "code",
   "execution_count": 7,
   "metadata": {},
   "outputs": [
    {
     "name": "stderr",
     "output_type": "stream",
     "text": [
      "Downloading: \"https://download.pytorch.org/models/resnet18-f37072fd.pth\" to C:\\Users\\alexa/.cache\\torch\\hub\\checkpoints\\resnet18-f37072fd.pth\n",
      "100%|██████████| 44.7M/44.7M [00:09<00:00, 4.85MB/s]\n"
     ]
    }
   ],
   "source": [
    "model_resnet_18 = DogsCatsCnnModelResNet18()"
   ]
  },
  {
   "cell_type": "markdown",
   "metadata": {},
   "source": [
    "#### Performance on validation set with initial set of params"
   ]
  },
  {
   "cell_type": "code",
   "execution_count": 10,
   "metadata": {},
   "outputs": [
    {
     "name": "stdout",
     "output_type": "stream",
     "text": [
      "{'val_loss': tensor(0.7358), 'val_acc': tensor(0.3356)}\n"
     ]
    }
   ],
   "source": [
    "print(evaluate(model_resnet_18, X_val, Y_val))"
   ]
  },
  {
   "cell_type": "markdown",
   "metadata": {},
   "source": [
    "#### Try training for X epochs"
   ]
  },
  {
   "cell_type": "code",
   "execution_count": 11,
   "metadata": {},
   "outputs": [],
   "source": [
    "num_epochs = 3\n",
    "opt_func = torch.optim.Adam\n",
    "batch_size = 256\n",
    "lr = 0.001"
   ]
  },
  {
   "cell_type": "code",
   "execution_count": 12,
   "metadata": {},
   "outputs": [
    {
     "name": "stdout",
     "output_type": "stream",
     "text": [
      "Epoch: 0\n",
      "  - Batch 0/11\n",
      "  - Batch 1/11\n",
      "  - Batch 2/11\n",
      "  - Batch 3/11\n",
      "  - Batch 4/11\n",
      "  - Batch 5/11\n",
      "  - Batch 6/11\n",
      "  - Batch 7/11\n",
      "  - Batch 8/11\n",
      "  - Batch 9/11\n",
      "  - Batch 10/11\n",
      "  - Batch 11/11\n",
      "Epoch 0, result: {'val_loss': tensor(0.3577), 'val_acc': tensor(0.9552)}\n",
      "Epoch: 1\n",
      "  - Batch 0/11\n",
      "  - Batch 1/11\n",
      "  - Batch 2/11\n",
      "  - Batch 3/11\n",
      "  - Batch 4/11\n",
      "  - Batch 5/11\n",
      "  - Batch 6/11\n",
      "  - Batch 7/11\n",
      "  - Batch 8/11\n",
      "  - Batch 9/11\n",
      "  - Batch 10/11\n",
      "  - Batch 11/11\n",
      "Epoch 1, result: {'val_loss': tensor(0.4603), 'val_acc': tensor(0.8533)}\n",
      "Epoch: 2\n",
      "  - Batch 0/11\n",
      "  - Batch 1/11\n",
      "  - Batch 2/11\n",
      "  - Batch 3/11\n",
      "  - Batch 4/11\n",
      "  - Batch 5/11\n",
      "  - Batch 6/11\n",
      "  - Batch 7/11\n",
      "  - Batch 8/11\n",
      "  - Batch 9/11\n",
      "  - Batch 10/11\n",
      "  - Batch 11/11\n",
      "Epoch 2, result: {'val_loss': tensor(0.4425), 'val_acc': tensor(0.8614)}\n"
     ]
    }
   ],
   "source": [
    "history0 = fit(model_resnet_18, num_epochs, lr, X_train, Y_train, X_val, Y_val, batch_size, opt_func)"
   ]
  },
  {
   "cell_type": "code",
   "execution_count": 15,
   "metadata": {},
   "outputs": [
    {
     "data": {
      "text/plain": [
       "[{'val_loss': tensor(0.3577), 'val_acc': tensor(0.9552)},\n",
       " {'val_loss': tensor(0.4603), 'val_acc': tensor(0.8533)},\n",
       " {'val_loss': tensor(0.4425), 'val_acc': tensor(0.8614)}]"
      ]
     },
     "execution_count": 15,
     "metadata": {},
     "output_type": "execute_result"
    }
   ],
   "source": [
    "history0"
   ]
  },
  {
   "cell_type": "code",
   "execution_count": 16,
   "metadata": {},
   "outputs": [
    {
     "data": {
      "image/png": "[encoded data removed]",
      "text/plain": [
       "<Figure size 640x480 with 1 Axes>"
      ]
     },
     "metadata": {},
     "output_type": "display_data"
    },
    {
     "data": {
      "image/png": "[encoded data removed]",
      "text/plain": [
       "<Figure size 640x480 with 1 Axes>"
      ]
     },
     "metadata": {},
     "output_type": "display_data"
    }
   ],
   "source": [
    "def plot_results(history):\n",
    "    val_loss = [d['val_loss'] for d in history]\n",
    "    val_acc = [d['val_acc'] for d in history]\n",
    "    plt.plot(val_loss)\n",
    "    plt.xlabel('epoch')\n",
    "    plt.ylabel('val loss')\n",
    "    plt.show()\n",
    "    plt.plot(val_acc)\n",
    "    plt.xlabel('epoch')\n",
    "    plt.ylabel('val acc')\n",
    "    plt.show()\n",
    "\n",
    "plot_results(history0)"
   ]
  },
  {
   "cell_type": "code",
   "execution_count": null,
   "metadata": {},
   "outputs": [],
   "source": []
  }
 ],
 "metadata": {
  "kernelspec": {
   "display_name": ".venv",
   "language": "python",
   "name": "python3"
  },
  "language_info": {
   "codemirror_mode": {
    "name": "ipython",
    "version": 3
   },
   "file_extension": ".py",
   "mimetype": "text/x-python",
   "name": "python",
   "nbconvert_exporter": "python",
   "pygments_lexer": "ipython3",
   "version": "3.10.7"
  }
 },
 "nbformat": 4,
 "nbformat_minor": 2
}
