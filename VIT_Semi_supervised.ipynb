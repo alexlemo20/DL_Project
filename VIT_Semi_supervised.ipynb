{
  "cells": [
    {
      "cell_type": "markdown",
      "metadata": {
        "id": "xUyHBEHibD9i"
      },
      "source": [
        "# **ViT**"
      ]
    },
    {
      "cell_type": "code",
      "source": [
        "# Step 1: Uninstall existing libraries\n",
        "!pip uninstall transformers accelerate -y\n",
        "\n",
        "# Step 2: Install required libraries\n",
        "!pip install transformers[torch] accelerate\n",
        "\n",
        "# Restart the runtime manually via the \"Runtime\" menu or by running:\n",
        "import os\n",
        "os.kill(os.getpid(), 9)"
      ],
      "metadata": {
        "collapsed": true,
        "id": "zzDOk1Tb4-x3",
        "colab": {
          "base_uri": "https://localhost:8080/"
        },
        "outputId": "0fbb2095-d38e-4df7-c0fd-ff076b33dab5"
      },
      "execution_count": null,
      "outputs": [
        {
          "output_type": "stream",
          "name": "stdout",
          "text": [
            "Found existing installation: transformers 4.41.0\n",
            "Uninstalling transformers-4.41.0:\n",
            "  Successfully uninstalled transformers-4.41.0\n",
            "\u001b[33mWARNING: Skipping accelerate as it is not installed.\u001b[0m\u001b[33m\n",
            "\u001b[0mCollecting transformers[torch]\n",
            "  Downloading transformers-4.41.1-py3-none-any.whl (9.1 MB)\n",
            "\u001b[2K     \u001b[90m━━━━━━━━━━━━━━━━━━━━━━━━━━━━━━━━━━━━━━━━\u001b[0m \u001b[32m9.1/9.1 MB\u001b[0m \u001b[31m16.2 MB/s\u001b[0m eta \u001b[36m0:00:00\u001b[0m\n",
            "\u001b[?25hCollecting accelerate\n",
            "  Downloading accelerate-0.30.1-py3-none-any.whl (302 kB)\n",
            "\u001b[2K     \u001b[90m━━━━━━━━━━━━━━━━━━━━━━━━━━━━━━━━━━━━━━━━\u001b[0m \u001b[32m302.6/302.6 kB\u001b[0m \u001b[31m20.2 MB/s\u001b[0m eta \u001b[36m0:00:00\u001b[0m\n",
            "\u001b[?25hRequirement already satisfied: filelock in /usr/local/lib/python3.10/dist-packages (from transformers[torch]) (3.14.0)\n",
            "Requirement already satisfied: huggingface-hub<1.0,>=0.23.0 in /usr/local/lib/python3.10/dist-packages (from transformers[torch]) (0.23.0)\n",
            "Requirement already satisfied: numpy>=1.17 in /usr/local/lib/python3.10/dist-packages (from transformers[torch]) (1.25.2)\n",
            "Requirement already satisfied: packaging>=20.0 in /usr/local/lib/python3.10/dist-packages (from transformers[torch]) (24.0)\n",
            "Requirement already satisfied: pyyaml>=5.1 in /usr/local/lib/python3.10/dist-packages (from transformers[torch]) (6.0.1)\n",
            "Requirement already satisfied: regex!=2019.12.17 in /usr/local/lib/python3.10/dist-packages (from transformers[torch]) (2023.12.25)\n",
            "Requirement already satisfied: requests in /usr/local/lib/python3.10/dist-packages (from transformers[torch]) (2.31.0)\n",
            "Requirement already satisfied: tokenizers<0.20,>=0.19 in /usr/local/lib/python3.10/dist-packages (from transformers[torch]) (0.19.1)\n",
            "Requirement already satisfied: safetensors>=0.4.1 in /usr/local/lib/python3.10/dist-packages (from transformers[torch]) (0.4.3)\n",
            "Requirement already satisfied: tqdm>=4.27 in /usr/local/lib/python3.10/dist-packages (from transformers[torch]) (4.66.4)\n",
            "Requirement already satisfied: torch in /usr/local/lib/python3.10/dist-packages (from transformers[torch]) (2.3.0+cu121)\n",
            "Requirement already satisfied: psutil in /usr/local/lib/python3.10/dist-packages (from accelerate) (5.9.5)\n",
            "Requirement already satisfied: fsspec>=2023.5.0 in /usr/local/lib/python3.10/dist-packages (from huggingface-hub<1.0,>=0.23.0->transformers[torch]) (2023.6.0)\n",
            "Requirement already satisfied: typing-extensions>=3.7.4.3 in /usr/local/lib/python3.10/dist-packages (from huggingface-hub<1.0,>=0.23.0->transformers[torch]) (4.11.0)\n",
            "Requirement already satisfied: sympy in /usr/local/lib/python3.10/dist-packages (from torch->transformers[torch]) (1.12)\n",
            "Requirement already satisfied: networkx in /usr/local/lib/python3.10/dist-packages (from torch->transformers[torch]) (3.3)\n",
            "Requirement already satisfied: jinja2 in /usr/local/lib/python3.10/dist-packages (from torch->transformers[torch]) (3.1.4)\n",
            "Collecting nvidia-cuda-nvrtc-cu12==12.1.105 (from torch->transformers[torch])\n",
            "  Using cached nvidia_cuda_nvrtc_cu12-12.1.105-py3-none-manylinux1_x86_64.whl (23.7 MB)\n",
            "Collecting nvidia-cuda-runtime-cu12==12.1.105 (from torch->transformers[torch])\n",
            "  Using cached nvidia_cuda_runtime_cu12-12.1.105-py3-none-manylinux1_x86_64.whl (823 kB)\n",
            "Collecting nvidia-cuda-cupti-cu12==12.1.105 (from torch->transformers[torch])\n",
            "  Using cached nvidia_cuda_cupti_cu12-12.1.105-py3-none-manylinux1_x86_64.whl (14.1 MB)\n",
            "Collecting nvidia-cudnn-cu12==8.9.2.26 (from torch->transformers[torch])\n",
            "  Using cached nvidia_cudnn_cu12-8.9.2.26-py3-none-manylinux1_x86_64.whl (731.7 MB)\n",
            "Collecting nvidia-cublas-cu12==12.1.3.1 (from torch->transformers[torch])\n",
            "  Using cached nvidia_cublas_cu12-12.1.3.1-py3-none-manylinux1_x86_64.whl (410.6 MB)\n",
            "Collecting nvidia-cufft-cu12==11.0.2.54 (from torch->transformers[torch])\n",
            "  Using cached nvidia_cufft_cu12-11.0.2.54-py3-none-manylinux1_x86_64.whl (121.6 MB)\n",
            "Collecting nvidia-curand-cu12==10.3.2.106 (from torch->transformers[torch])\n",
            "  Using cached nvidia_curand_cu12-10.3.2.106-py3-none-manylinux1_x86_64.whl (56.5 MB)\n",
            "Collecting nvidia-cusolver-cu12==11.4.5.107 (from torch->transformers[torch])\n",
            "  Using cached nvidia_cusolver_cu12-11.4.5.107-py3-none-manylinux1_x86_64.whl (124.2 MB)\n",
            "Collecting nvidia-cusparse-cu12==12.1.0.106 (from torch->transformers[torch])\n",
            "  Using cached nvidia_cusparse_cu12-12.1.0.106-py3-none-manylinux1_x86_64.whl (196.0 MB)\n",
            "Collecting nvidia-nccl-cu12==2.20.5 (from torch->transformers[torch])\n",
            "  Using cached nvidia_nccl_cu12-2.20.5-py3-none-manylinux2014_x86_64.whl (176.2 MB)\n",
            "Collecting nvidia-nvtx-cu12==12.1.105 (from torch->transformers[torch])\n",
            "  Using cached nvidia_nvtx_cu12-12.1.105-py3-none-manylinux1_x86_64.whl (99 kB)\n",
            "Requirement already satisfied: triton==2.3.0 in /usr/local/lib/python3.10/dist-packages (from torch->transformers[torch]) (2.3.0)\n",
            "Collecting nvidia-nvjitlink-cu12 (from nvidia-cusolver-cu12==11.4.5.107->torch->transformers[torch])\n",
            "  Downloading nvidia_nvjitlink_cu12-12.5.40-py3-none-manylinux2014_x86_64.whl (21.3 MB)\n",
            "\u001b[2K     \u001b[90m━━━━━━━━━━━━━━━━━━━━━━━━━━━━━━━━━━━━━━━━\u001b[0m \u001b[32m21.3/21.3 MB\u001b[0m \u001b[31m61.7 MB/s\u001b[0m eta \u001b[36m0:00:00\u001b[0m\n",
            "\u001b[?25hRequirement already satisfied: charset-normalizer<4,>=2 in /usr/local/lib/python3.10/dist-packages (from requests->transformers[torch]) (3.3.2)\n",
            "Requirement already satisfied: idna<4,>=2.5 in /usr/local/lib/python3.10/dist-packages (from requests->transformers[torch]) (3.7)\n",
            "Requirement already satisfied: urllib3<3,>=1.21.1 in /usr/local/lib/python3.10/dist-packages (from requests->transformers[torch]) (2.0.7)\n",
            "Requirement already satisfied: certifi>=2017.4.17 in /usr/local/lib/python3.10/dist-packages (from requests->transformers[torch]) (2024.2.2)\n",
            "Requirement already satisfied: MarkupSafe>=2.0 in /usr/local/lib/python3.10/dist-packages (from jinja2->torch->transformers[torch]) (2.1.5)\n",
            "Requirement already satisfied: mpmath>=0.19 in /usr/local/lib/python3.10/dist-packages (from sympy->torch->transformers[torch]) (1.3.0)\n",
            "Installing collected packages: nvidia-nvtx-cu12, nvidia-nvjitlink-cu12, nvidia-nccl-cu12, nvidia-curand-cu12, nvidia-cufft-cu12, nvidia-cuda-runtime-cu12, nvidia-cuda-nvrtc-cu12, nvidia-cuda-cupti-cu12, nvidia-cublas-cu12, nvidia-cusparse-cu12, nvidia-cudnn-cu12, nvidia-cusolver-cu12, transformers, accelerate\n",
            "Successfully installed accelerate-0.30.1 nvidia-cublas-cu12-12.1.3.1 nvidia-cuda-cupti-cu12-12.1.105 nvidia-cuda-nvrtc-cu12-12.1.105 nvidia-cuda-runtime-cu12-12.1.105 nvidia-cudnn-cu12-8.9.2.26 nvidia-cufft-cu12-11.0.2.54 nvidia-curand-cu12-10.3.2.106 nvidia-cusolver-cu12-11.4.5.107 nvidia-cusparse-cu12-12.1.0.106 nvidia-nccl-cu12-2.20.5 nvidia-nvjitlink-cu12-12.5.40 nvidia-nvtx-cu12-12.1.105 transformers-4.41.1\n"
          ]
        }
      ]
    },
    {
      "cell_type": "code",
      "source": [
        "!pip install datasets\n"
      ],
      "metadata": {
        "id": "FAOo8fgrkmNo",
        "colab": {
          "base_uri": "https://localhost:8080/"
        },
        "outputId": "949cf1cf-a3d9-4586-f19c-7f4e5c6cb99f"
      },
      "execution_count": null,
      "outputs": [
        {
          "output_type": "stream",
          "name": "stdout",
          "text": [
            "Collecting datasets\n",
            "  Downloading datasets-2.19.1-py3-none-any.whl (542 kB)\n",
            "\u001b[2K     \u001b[90m━━━━━━━━━━━━━━━━━━━━━━━━━━━━━━━━━━━━━━━━\u001b[0m \u001b[32m542.0/542.0 kB\u001b[0m \u001b[31m6.7 MB/s\u001b[0m eta \u001b[36m0:00:00\u001b[0m\n",
            "\u001b[?25hRequirement already satisfied: filelock in /usr/local/lib/python3.10/dist-packages (from datasets) (3.14.0)\n",
            "Requirement already satisfied: numpy>=1.17 in /usr/local/lib/python3.10/dist-packages (from datasets) (1.25.2)\n",
            "Requirement already satisfied: pyarrow>=12.0.0 in /usr/local/lib/python3.10/dist-packages (from datasets) (14.0.2)\n",
            "Requirement already satisfied: pyarrow-hotfix in /usr/local/lib/python3.10/dist-packages (from datasets) (0.6)\n",
            "Collecting dill<0.3.9,>=0.3.0 (from datasets)\n",
            "  Downloading dill-0.3.8-py3-none-any.whl (116 kB)\n",
            "\u001b[2K     \u001b[90m━━━━━━━━━━━━━━━━━━━━━━━━━━━━━━━━━━━━━━━━\u001b[0m \u001b[32m116.3/116.3 kB\u001b[0m \u001b[31m8.4 MB/s\u001b[0m eta \u001b[36m0:00:00\u001b[0m\n",
            "\u001b[?25hRequirement already satisfied: pandas in /usr/local/lib/python3.10/dist-packages (from datasets) (2.0.3)\n",
            "Requirement already satisfied: requests>=2.19.0 in /usr/local/lib/python3.10/dist-packages (from datasets) (2.31.0)\n",
            "Requirement already satisfied: tqdm>=4.62.1 in /usr/local/lib/python3.10/dist-packages (from datasets) (4.66.4)\n",
            "Collecting xxhash (from datasets)\n",
            "  Downloading xxhash-3.4.1-cp310-cp310-manylinux_2_17_x86_64.manylinux2014_x86_64.whl (194 kB)\n",
            "\u001b[2K     \u001b[90m━━━━━━━━━━━━━━━━━━━━━━━━━━━━━━━━━━━━━━━━\u001b[0m \u001b[32m194.1/194.1 kB\u001b[0m \u001b[31m9.0 MB/s\u001b[0m eta \u001b[36m0:00:00\u001b[0m\n",
            "\u001b[?25hCollecting multiprocess (from datasets)\n",
            "  Downloading multiprocess-0.70.16-py310-none-any.whl (134 kB)\n",
            "\u001b[2K     \u001b[90m━━━━━━━━━━━━━━━━━━━━━━━━━━━━━━━━━━━━━━━━\u001b[0m \u001b[32m134.8/134.8 kB\u001b[0m \u001b[31m9.4 MB/s\u001b[0m eta \u001b[36m0:00:00\u001b[0m\n",
            "\u001b[?25hRequirement already satisfied: fsspec[http]<=2024.3.1,>=2023.1.0 in /usr/local/lib/python3.10/dist-packages (from datasets) (2023.6.0)\n",
            "Requirement already satisfied: aiohttp in /usr/local/lib/python3.10/dist-packages (from datasets) (3.9.5)\n",
            "Requirement already satisfied: huggingface-hub>=0.21.2 in /usr/local/lib/python3.10/dist-packages (from datasets) (0.23.0)\n",
            "Requirement already satisfied: packaging in /usr/local/lib/python3.10/dist-packages (from datasets) (24.0)\n",
            "Requirement already satisfied: pyyaml>=5.1 in /usr/local/lib/python3.10/dist-packages (from datasets) (6.0.1)\n",
            "Requirement already satisfied: aiosignal>=1.1.2 in /usr/local/lib/python3.10/dist-packages (from aiohttp->datasets) (1.3.1)\n",
            "Requirement already satisfied: attrs>=17.3.0 in /usr/local/lib/python3.10/dist-packages (from aiohttp->datasets) (23.2.0)\n",
            "Requirement already satisfied: frozenlist>=1.1.1 in /usr/local/lib/python3.10/dist-packages (from aiohttp->datasets) (1.4.1)\n",
            "Requirement already satisfied: multidict<7.0,>=4.5 in /usr/local/lib/python3.10/dist-packages (from aiohttp->datasets) (6.0.5)\n",
            "Requirement already satisfied: yarl<2.0,>=1.0 in /usr/local/lib/python3.10/dist-packages (from aiohttp->datasets) (1.9.4)\n",
            "Requirement already satisfied: async-timeout<5.0,>=4.0 in /usr/local/lib/python3.10/dist-packages (from aiohttp->datasets) (4.0.3)\n",
            "Requirement already satisfied: typing-extensions>=3.7.4.3 in /usr/local/lib/python3.10/dist-packages (from huggingface-hub>=0.21.2->datasets) (4.11.0)\n",
            "Requirement already satisfied: charset-normalizer<4,>=2 in /usr/local/lib/python3.10/dist-packages (from requests>=2.19.0->datasets) (3.3.2)\n",
            "Requirement already satisfied: idna<4,>=2.5 in /usr/local/lib/python3.10/dist-packages (from requests>=2.19.0->datasets) (3.7)\n",
            "Requirement already satisfied: urllib3<3,>=1.21.1 in /usr/local/lib/python3.10/dist-packages (from requests>=2.19.0->datasets) (2.0.7)\n",
            "Requirement already satisfied: certifi>=2017.4.17 in /usr/local/lib/python3.10/dist-packages (from requests>=2.19.0->datasets) (2024.2.2)\n",
            "Requirement already satisfied: python-dateutil>=2.8.2 in /usr/local/lib/python3.10/dist-packages (from pandas->datasets) (2.8.2)\n",
            "Requirement already satisfied: pytz>=2020.1 in /usr/local/lib/python3.10/dist-packages (from pandas->datasets) (2023.4)\n",
            "Requirement already satisfied: tzdata>=2022.1 in /usr/local/lib/python3.10/dist-packages (from pandas->datasets) (2024.1)\n",
            "Requirement already satisfied: six>=1.5 in /usr/local/lib/python3.10/dist-packages (from python-dateutil>=2.8.2->pandas->datasets) (1.16.0)\n",
            "Installing collected packages: xxhash, dill, multiprocess, datasets\n",
            "Successfully installed datasets-2.19.1 dill-0.3.8 multiprocess-0.70.16 xxhash-3.4.1\n"
          ]
        }
      ]
    },
    {
      "cell_type": "code",
      "source": [
        "import numpy as np\n",
        "import matplotlib.pyplot as plt\n",
        "from helper_methods import get_train_val, create_dataset_mltclass, show_images, load_and_transform_image, get_test\n",
        "\n",
        "import torch\n",
        "import torch.nn as nn\n",
        "import torch.nn.functional as F\n",
        "import torchvision.models as models\n",
        "from torchvision.models import ResNet18_Weights\n",
        "from torch.utils.data import TensorDataset, DataLoader\n",
        "from transformers import AutoImageProcessor, ViTForImageClassification\n",
        "from transformers import ViTImageProcessor"
      ],
      "metadata": {
        "id": "77yT0DmBdroL"
      },
      "execution_count": null,
      "outputs": []
    },
    {
      "cell_type": "code",
      "source": [
        "from google.colab import drive\n",
        "drive.mount('/content/drive')"
      ],
      "metadata": {
        "colab": {
          "base_uri": "https://localhost:8080/"
        },
        "id": "3iDklx2bd9jp",
        "outputId": "12528677-638b-4473-e0a0-2e405a8457e3"
      },
      "execution_count": null,
      "outputs": [
        {
          "output_type": "stream",
          "name": "stdout",
          "text": [
            "Mounted at /content/drive\n"
          ]
        }
      ]
    },
    {
      "cell_type": "code",
      "source": [
        "import tarfile\n",
        "\n",
        "# Unzipping the annotations file\n",
        "annotations_tar_path = '/content/drive/MyDrive/annotations.tar.gz'\n",
        "annotations_extract_path = '/content/annotations'\n",
        "with tarfile.open(annotations_tar_path, 'r:gz') as tar:\n",
        "    tar.extractall(path=annotations_extract_path)\n",
        "\n",
        "# Unzipping the images file\n",
        "images_tar_path = '/content/drive/MyDrive/images.tar.gz'\n",
        "images_extract_path = '/content/images'\n",
        "with tarfile.open(images_tar_path, 'r:gz') as tar:\n",
        "    tar.extractall(path=images_extract_path)"
      ],
      "metadata": {
        "id": "33P0GHuX3s7D"
      },
      "execution_count": null,
      "outputs": []
    },
    {
      "cell_type": "code",
      "source": [
        "df_train, df_val = get_train_val(filepath='/content/annotations/annotations/trainval.txt', val_size=0.2)\n",
        "# C:\\\\Users\\\\alexa\\\\Documents\\\\Deep Learning\\\\Project\\\\datasets\\\\images\\\\images\\\\\n",
        "\n",
        "X_train, Y_train = create_dataset_mltclass(df_train, base_path='/content/images/images/')\n",
        "X_val, Y_val = create_dataset_mltclass(df_val, base_path='/content/images/images/')\n",
        "\n",
        "Y_train = Y_train.long()\n",
        "Y_val = Y_val.long()\n"
      ],
      "metadata": {
        "id": "A6r8wIQYdvWZ"
      },
      "execution_count": null,
      "outputs": []
    },
    {
      "cell_type": "code",
      "source": [
        "labels = torch.unique(Y_train)\n",
        "print(labels)\n",
        "print(labels.tolist())\n",
        "from datasets import Dataset\n",
        "\n",
        "print(type(df_train))\n",
        "print(type(df_val))\n",
        "train_dataset = Dataset.from_pandas(df_train)\n",
        "val_dataset = Dataset.from_pandas(df_val)\n",
        "print(type(train_dataset))\n",
        "print(type(val_dataset))\n",
        "print(train_dataset)\n"
      ],
      "metadata": {
        "colab": {
          "base_uri": "https://localhost:8080/"
        },
        "id": "ndtAbJuzy3xP",
        "outputId": "50e31c48-8910-4b40-d78c-e59a2bbf9c03"
      },
      "execution_count": null,
      "outputs": [
        {
          "output_type": "stream",
          "name": "stdout",
          "text": [
            "tensor([ 0,  1,  2,  3,  4,  5,  6,  7,  8,  9, 10, 11, 12, 13, 14, 15, 16, 17,\n",
            "        18, 19, 20, 21, 22, 23, 24, 25, 26, 27, 28, 29, 30, 31, 32, 33, 34, 35,\n",
            "        36])\n",
            "[0, 1, 2, 3, 4, 5, 6, 7, 8, 9, 10, 11, 12, 13, 14, 15, 16, 17, 18, 19, 20, 21, 22, 23, 24, 25, 26, 27, 28, 29, 30, 31, 32, 33, 34, 35, 36]\n",
            "<class 'pandas.core.frame.DataFrame'>\n",
            "<class 'pandas.core.frame.DataFrame'>\n",
            "<class 'datasets.arrow_dataset.Dataset'>\n",
            "<class 'datasets.arrow_dataset.Dataset'>\n",
            "Dataset({\n",
            "    features: ['image_id', 'class_id', 'species', 'breed', '__index_level_0__'],\n",
            "    num_rows: 2944\n",
            "})\n"
          ]
        }
      ]
    },
    {
      "cell_type": "code",
      "source": [
        "import gc\n",
        "del df_train, df_val\n",
        "gc.collect()\n",
        "torch.cuda.empty_cache()\n"
      ],
      "metadata": {
        "id": "a3SQtQs6W87o"
      },
      "execution_count": null,
      "outputs": []
    },
    {
      "cell_type": "code",
      "source": [
        "model_name_or_path = 'google/vit-base-patch16-224-in21k'\n",
        "from transformers import ViTForImageClassification\n",
        "labels = torch.unique(Y_train)\n",
        "labels = labels.tolist()\n",
        "model = ViTForImageClassification.from_pretrained(\n",
        "    model_name_or_path,\n",
        "    num_labels=torch.max(Y_train) + 1,\n",
        "    id2label={str(i): c for i, c in enumerate(labels)},\n",
        "    label2id={c: str(i) for i, c in enumerate(labels)}\n",
        ")\n",
        "device = torch.device(\"cuda\" if torch.cuda.is_available() else \"cpu\")\n",
        "model.to(device)\n"
      ],
      "metadata": {
        "colab": {
          "base_uri": "https://localhost:8080/",
          "height": 934,
          "referenced_widgets": [
            "5342aede86a742f68878a17857b4e699",
            "9118a783a2ac49c0b00f2188b9ae9ee2",
            "c3d62a2193544cbf91b7ace9721a1b3c",
            "ed1b4f7296f646dcbd8ad3a13c4c030f",
            "50a2ce1e752a48428308a93483ea1531",
            "3590858593324718ac55ecca5b3c8ced",
            "55c5b9f7ff384ef0a836651ee3a883a2",
            "7817dff204f94bf28a74b43e97910630",
            "0a59ea3583904874b143384544df2c16",
            "a7f49ed97f92462eae53cb8862894e9f",
            "95812d1051fa4e41ba4b6dcb22d6c35e",
            "59e7ef831ba2403e99c6897145d6c88a",
            "96ba27a521104ca7872b936f81a71cb7",
            "8ee928425b03403ea5606d99fd786bf5",
            "4e25a5b5540146a9bf41dd5fbe093c72",
            "0efd0792876d4326b120c96bb88876d9",
            "38b9515980a04b58b15e9247ef6dec0f",
            "1e6fa8e6f1894694a523a668d3bf2c9b",
            "d262e26737ef46d7935760d7f1c38aa8",
            "be86ea2062844f49909dc6d11892e0b3",
            "e13605ff6ded4c0f926a21486caca060",
            "0122e7e5e1aa428ea53ad09c429d2b29"
          ]
        },
        "id": "aR2a41Kidvhw",
        "outputId": "c05a1193-6930-4fb4-dd05-320b2811d9db"
      },
      "execution_count": null,
      "outputs": [
        {
          "output_type": "stream",
          "name": "stderr",
          "text": [
            "/usr/local/lib/python3.10/dist-packages/huggingface_hub/utils/_token.py:89: UserWarning: \n",
            "The secret `HF_TOKEN` does not exist in your Colab secrets.\n",
            "To authenticate with the Hugging Face Hub, create a token in your settings tab (https://huggingface.co/settings/tokens), set it as secret in your Google Colab and restart your session.\n",
            "You will be able to reuse this secret in all of your notebooks.\n",
            "Please note that authentication is recommended but still optional to access public models or datasets.\n",
            "  warnings.warn(\n"
          ]
        },
        {
          "output_type": "display_data",
          "data": {
            "text/plain": [
              "config.json:   0%|          | 0.00/502 [00:00<?, ?B/s]"
            ],
            "application/vnd.jupyter.widget-view+json": {
              "version_major": 2,
              "version_minor": 0,
              "model_id": "5342aede86a742f68878a17857b4e699"
            }
          },
          "metadata": {}
        },
        {
          "output_type": "display_data",
          "data": {
            "text/plain": [
              "model.safetensors:   0%|          | 0.00/346M [00:00<?, ?B/s]"
            ],
            "application/vnd.jupyter.widget-view+json": {
              "version_major": 2,
              "version_minor": 0,
              "model_id": "59e7ef831ba2403e99c6897145d6c88a"
            }
          },
          "metadata": {}
        },
        {
          "output_type": "stream",
          "name": "stderr",
          "text": [
            "Some weights of ViTForImageClassification were not initialized from the model checkpoint at google/vit-base-patch16-224-in21k and are newly initialized: ['classifier.bias', 'classifier.weight']\n",
            "You should probably TRAIN this model on a down-stream task to be able to use it for predictions and inference.\n"
          ]
        },
        {
          "output_type": "execute_result",
          "data": {
            "text/plain": [
              "ViTForImageClassification(\n",
              "  (vit): ViTModel(\n",
              "    (embeddings): ViTEmbeddings(\n",
              "      (patch_embeddings): ViTPatchEmbeddings(\n",
              "        (projection): Conv2d(3, 768, kernel_size=(16, 16), stride=(16, 16))\n",
              "      )\n",
              "      (dropout): Dropout(p=0.0, inplace=False)\n",
              "    )\n",
              "    (encoder): ViTEncoder(\n",
              "      (layer): ModuleList(\n",
              "        (0-11): 12 x ViTLayer(\n",
              "          (attention): ViTSdpaAttention(\n",
              "            (attention): ViTSdpaSelfAttention(\n",
              "              (query): Linear(in_features=768, out_features=768, bias=True)\n",
              "              (key): Linear(in_features=768, out_features=768, bias=True)\n",
              "              (value): Linear(in_features=768, out_features=768, bias=True)\n",
              "              (dropout): Dropout(p=0.0, inplace=False)\n",
              "            )\n",
              "            (output): ViTSelfOutput(\n",
              "              (dense): Linear(in_features=768, out_features=768, bias=True)\n",
              "              (dropout): Dropout(p=0.0, inplace=False)\n",
              "            )\n",
              "          )\n",
              "          (intermediate): ViTIntermediate(\n",
              "            (dense): Linear(in_features=768, out_features=3072, bias=True)\n",
              "            (intermediate_act_fn): GELUActivation()\n",
              "          )\n",
              "          (output): ViTOutput(\n",
              "            (dense): Linear(in_features=3072, out_features=768, bias=True)\n",
              "            (dropout): Dropout(p=0.0, inplace=False)\n",
              "          )\n",
              "          (layernorm_before): LayerNorm((768,), eps=1e-12, elementwise_affine=True)\n",
              "          (layernorm_after): LayerNorm((768,), eps=1e-12, elementwise_affine=True)\n",
              "        )\n",
              "      )\n",
              "    )\n",
              "    (layernorm): LayerNorm((768,), eps=1e-12, elementwise_affine=True)\n",
              "  )\n",
              "  (classifier): Linear(in_features=768, out_features=37, bias=True)\n",
              ")"
            ]
          },
          "metadata": {},
          "execution_count": 8
        }
      ]
    },
    {
      "cell_type": "code",
      "source": [
        "from transformers import ViTImageProcessor\n",
        "processor = ViTImageProcessor.from_pretrained(model_name_or_path)\n",
        "\n",
        "def transform(example_batch):\n",
        "    #print(example_batch) # Normally we want a tensor of 'pixel_values': tensor and 'labels': AS INPUTS\n",
        "    # Take a list of PIL images and turn them to pixel values\n",
        "    #inputs = processor([x for x in example_batch['image']], return_tensors='pt')\n",
        "    images_tensors = []\n",
        "    #Y = []\n",
        "    base_path = \"/content/images/images/\"\n",
        "    #print(\"Example batch: \", example_batch)\n",
        "    for im_id in example_batch['image_id']:\n",
        "        #print(\"APOEL: \", im_id)\n",
        "        #image_id, species_id = row[0], row[2]\n",
        "        image_path = f\"{base_path}{im_id}.jpg\"  # Adjust format as needed\n",
        "        image_tensor = load_and_transform_image(image_path)\n",
        "        images_tensors.append(image_tensor)\n",
        "    #    Y.append(class_id)\n",
        "\n",
        "    # Stack all tensors to create a single tensor\n",
        "    inputs = {}\n",
        "    inputs['pixel_values'] = torch.stack(images_tensors)\n",
        "    # Don't forget to include the labels!\n",
        "    #print(example_batch)\n",
        "    inputs['labels'] = example_batch['class_id']\n",
        "    #print(inputs)\n",
        "    return inputs\n",
        "prepared_df_train = train_dataset.with_transform(transform)\n",
        "prepared_df_val = val_dataset.with_transform(transform)\n",
        "\n",
        "def collate_fn(batch):\n",
        "    return {\n",
        "        'pixel_values': torch.stack([x['pixel_values'] for x in batch]),\n",
        "        'labels': torch.tensor([x['labels'] for x in batch])\n",
        "    }\n",
        "from datasets import load_metric\n",
        "metric = load_metric(\"accuracy\")\n",
        "def compute_metrics(p):\n",
        "    return metric.compute(predictions=np.argmax(p.predictions, axis=1), references=p.label_ids)\n",
        "\n"
      ],
      "metadata": {
        "colab": {
          "base_uri": "https://localhost:8080/",
          "height": 205,
          "referenced_widgets": [
            "47799645958a4fe58ca9aa50242fe443",
            "dd2028cd72cb4a4e8dc429b451edcddf",
            "70711155e30d456d940052ed2379a77d",
            "0505721137c04627a954c07a8fe1e673",
            "5abf889851cb4f5790f4e7a0327dcae2",
            "50597f82bb484d02b4cf1d8c2078835a",
            "cf83e0f7e7484a4e8ce44ecced770389",
            "e0e8bb6148834194bcc6305cfb169be6",
            "580d053472ce4d818c06bb4b333274d6",
            "675f3a7f73ef4304aab019cdd52c3c34",
            "36e72df899754a0d988bb34a82ac6c16",
            "94a355f0ebab4e3ca3608c1a6a2bcb11",
            "a6f4b560f48b4b9da87d0dfa7e0877df",
            "eb33da44f3a3450da2cd2a460a97704d",
            "9f46e8c334eb46deba0c62553a43a074",
            "5495eeb0fdbc468fa9ffde5fe9997322",
            "4a2afd64b30b413380184cd20e210528",
            "cf19be5526a64fd3a497bf61746a4206",
            "8187de8393f04885bca45aab7a53af2b",
            "e5f24b8d62b74790b071014a7080abe7",
            "e02c6804f4bd4c16a73b6a64a7641704",
            "646a6b93342242379184c84ff9806036"
          ]
        },
        "id": "KmDFFItKzCWj",
        "outputId": "e14cbc7e-6916-4e7b-a856-46f9ecc026a2"
      },
      "execution_count": null,
      "outputs": [
        {
          "output_type": "display_data",
          "data": {
            "text/plain": [
              "preprocessor_config.json:   0%|          | 0.00/160 [00:00<?, ?B/s]"
            ],
            "application/vnd.jupyter.widget-view+json": {
              "version_major": 2,
              "version_minor": 0,
              "model_id": "47799645958a4fe58ca9aa50242fe443"
            }
          },
          "metadata": {}
        },
        {
          "output_type": "stream",
          "name": "stderr",
          "text": [
            "<ipython-input-9-b236c57bb65a>:37: FutureWarning: load_metric is deprecated and will be removed in the next major version of datasets. Use 'evaluate.load' instead, from the new library 🤗 Evaluate: https://huggingface.co/docs/evaluate\n",
            "  metric = load_metric(\"accuracy\")\n",
            "/usr/local/lib/python3.10/dist-packages/datasets/load.py:759: FutureWarning: The repository for accuracy contains custom code which must be executed to correctly load the metric. You can inspect the repository content at https://raw.githubusercontent.com/huggingface/datasets/2.19.1/metrics/accuracy/accuracy.py\n",
            "You can avoid this message in future by passing the argument `trust_remote_code=True`.\n",
            "Passing `trust_remote_code=True` will be mandatory to load this metric from the next major release of `datasets`.\n",
            "  warnings.warn(\n"
          ]
        },
        {
          "output_type": "display_data",
          "data": {
            "text/plain": [
              "Downloading builder script:   0%|          | 0.00/1.65k [00:00<?, ?B/s]"
            ],
            "application/vnd.jupyter.widget-view+json": {
              "version_major": 2,
              "version_minor": 0,
              "model_id": "94a355f0ebab4e3ca3608c1a6a2bcb11"
            }
          },
          "metadata": {}
        }
      ]
    },
    {
      "cell_type": "code",
      "source": [
        "from datasets import load_metric\n",
        "metric = load_metric(\"accuracy\")\n",
        "def compute_metrics(p):\n",
        "    return metric.compute(predictions=np.argmax(p.predictions, axis=1), references=p.label_ids)\n",
        "\n",
        "import transformers\n",
        "import accelerate\n",
        "\n",
        "print(f\"Transformers version: {transformers.__version__}\")\n",
        "print(f\"Accelerate version: {accelerate.__version__}\")"
      ],
      "metadata": {
        "colab": {
          "base_uri": "https://localhost:8080/"
        },
        "id": "24VG-oTdzFxv",
        "outputId": "0556b6e5-c83e-44a4-afe4-cae8d37d4ee1"
      },
      "execution_count": null,
      "outputs": [
        {
          "output_type": "stream",
          "name": "stdout",
          "text": [
            "Transformers version: 4.41.1\n",
            "Accelerate version: 0.30.1\n"
          ]
        },
        {
          "output_type": "stream",
          "name": "stderr",
          "text": [
            "/usr/local/lib/python3.10/dist-packages/datasets/load.py:759: FutureWarning: The repository for accuracy contains custom code which must be executed to correctly load the metric. You can inspect the repository content at https://raw.githubusercontent.com/huggingface/datasets/2.19.1/metrics/accuracy/accuracy.py\n",
            "You can avoid this message in future by passing the argument `trust_remote_code=True`.\n",
            "Passing `trust_remote_code=True` will be mandatory to load this metric from the next major release of `datasets`.\n",
            "  warnings.warn(\n"
          ]
        }
      ]
    },
    {
      "cell_type": "code",
      "source": [
        "\n",
        "from transformers import TrainingArguments\n",
        "\n",
        "training_args = TrainingArguments(\n",
        "  output_dir=\"/content\",\n",
        "  per_device_train_batch_size=128, # 16\n",
        "  evaluation_strategy=\"steps\",\n",
        "  num_train_epochs=10,\n",
        "  fp16=True, #True\n",
        "  save_steps=23,\n",
        "  eval_steps=23,\n",
        "  logging_steps=10,\n",
        "  learning_rate=0.001, # 2e-4\n",
        "  save_total_limit=2,\n",
        "  remove_unused_columns=False,\n",
        "  push_to_hub=False,\n",
        "  report_to='tensorboard',\n",
        "  load_best_model_at_end=True,\n",
        ")\n"
      ],
      "metadata": {
        "colab": {
          "base_uri": "https://localhost:8080/"
        },
        "id": "uSmlAo7fzUNj",
        "outputId": "6a8a5084-d862-4206-853c-a541727cdf2b"
      },
      "execution_count": null,
      "outputs": [
        {
          "output_type": "stream",
          "name": "stderr",
          "text": [
            "/usr/local/lib/python3.10/dist-packages/transformers/training_args.py:1474: FutureWarning: `evaluation_strategy` is deprecated and will be removed in version 4.46 of 🤗 Transformers. Use `eval_strategy` instead\n",
            "  warnings.warn(\n"
          ]
        }
      ]
    },
    {
      "cell_type": "code",
      "source": [
        "from transformers import Trainer\n",
        "\n",
        "trainer = Trainer(\n",
        "    model=model,\n",
        "    args=training_args,\n",
        "    data_collator=collate_fn,\n",
        "    compute_metrics=compute_metrics,\n",
        "    # <class 'datasets.arrow_dataset.Dataset'> should be given while we give <class 'pandas.core.frame.DataFrame'>\n",
        "    #train_dataset=prepared_ds[\"train\"],\n",
        "    train_dataset=prepared_df_train, #df_train, train_dataset\n",
        "\n",
        "    #eval_dataset=prepared_ds[\"validation\"],\n",
        "    eval_dataset=prepared_df_val, #df_val, val_dataset\n",
        "    tokenizer=processor,\n",
        ")"
      ],
      "metadata": {
        "id": "95zFY8CDzXkB"
      },
      "execution_count": null,
      "outputs": []
    },
    {
      "cell_type": "code",
      "source": [
        "train_results = trainer.train()\n",
        "trainer.save_model()\n",
        "trainer.log_metrics(\"train\", train_results.metrics)\n",
        "trainer.save_metrics(\"train\", train_results.metrics)\n",
        "trainer.save_state()\n"
      ],
      "metadata": {
        "colab": {
          "base_uri": "https://localhost:8080/",
          "height": 510
        },
        "id": "GLiw3Ru2zX99",
        "outputId": "b391d147-a78c-420e-dde2-76288f57dedb"
      },
      "execution_count": null,
      "outputs": [
        {
          "output_type": "display_data",
          "data": {
            "text/plain": [
              "<IPython.core.display.HTML object>"
            ],
            "text/html": [
              "\n",
              "    <div>\n",
              "      \n",
              "      <progress value='230' max='230' style='width:300px; height:20px; vertical-align: middle;'></progress>\n",
              "      [230/230 09:40, Epoch 10/10]\n",
              "    </div>\n",
              "    <table border=\"1\" class=\"dataframe\">\n",
              "  <thead>\n",
              " <tr style=\"text-align: left;\">\n",
              "      <th>Step</th>\n",
              "      <th>Training Loss</th>\n",
              "      <th>Validation Loss</th>\n",
              "      <th>Accuracy</th>\n",
              "    </tr>\n",
              "  </thead>\n",
              "  <tbody>\n",
              "    <tr>\n",
              "      <td>23</td>\n",
              "      <td>2.123100</td>\n",
              "      <td>1.295734</td>\n",
              "      <td>0.826087</td>\n",
              "    </tr>\n",
              "    <tr>\n",
              "      <td>46</td>\n",
              "      <td>0.710800</td>\n",
              "      <td>0.586987</td>\n",
              "      <td>0.857337</td>\n",
              "    </tr>\n",
              "    <tr>\n",
              "      <td>69</td>\n",
              "      <td>0.328200</td>\n",
              "      <td>0.527236</td>\n",
              "      <td>0.849185</td>\n",
              "    </tr>\n",
              "    <tr>\n",
              "      <td>92</td>\n",
              "      <td>0.210600</td>\n",
              "      <td>0.610510</td>\n",
              "      <td>0.832880</td>\n",
              "    </tr>\n",
              "    <tr>\n",
              "      <td>115</td>\n",
              "      <td>0.132500</td>\n",
              "      <td>0.649952</td>\n",
              "      <td>0.816576</td>\n",
              "    </tr>\n",
              "    <tr>\n",
              "      <td>138</td>\n",
              "      <td>0.098900</td>\n",
              "      <td>0.648662</td>\n",
              "      <td>0.827446</td>\n",
              "    </tr>\n",
              "    <tr>\n",
              "      <td>161</td>\n",
              "      <td>0.050700</td>\n",
              "      <td>0.538108</td>\n",
              "      <td>0.862772</td>\n",
              "    </tr>\n",
              "    <tr>\n",
              "      <td>184</td>\n",
              "      <td>0.024200</td>\n",
              "      <td>0.433516</td>\n",
              "      <td>0.885870</td>\n",
              "    </tr>\n",
              "    <tr>\n",
              "      <td>207</td>\n",
              "      <td>0.020900</td>\n",
              "      <td>0.413480</td>\n",
              "      <td>0.896739</td>\n",
              "    </tr>\n",
              "    <tr>\n",
              "      <td>230</td>\n",
              "      <td>0.013400</td>\n",
              "      <td>0.424163</td>\n",
              "      <td>0.892663</td>\n",
              "    </tr>\n",
              "  </tbody>\n",
              "</table><p>"
            ]
          },
          "metadata": {}
        },
        {
          "output_type": "stream",
          "name": "stdout",
          "text": [
            "***** train metrics *****\n",
            "  epoch                    =         10.0\n",
            "  total_flos               = 2125352457GF\n",
            "  train_loss               =        0.422\n",
            "  train_runtime            =   0:09:46.78\n",
            "  train_samples_per_second =       50.171\n",
            "  train_steps_per_second   =        0.392\n"
          ]
        }
      ]
    },
    {
      "cell_type": "code",
      "source": [
        "#test data\n",
        "df_test = get_test(filepath='/content/annotations/annotations/test.txt')\n",
        "X_test, Y_test = create_dataset_mltclass(df_test, base_path=\"/content/images/images/\")\n",
        "\n",
        "# Convert Y_test to Long\n",
        "Y_test = Y_test.long()\n",
        "test_dataset = Dataset.from_pandas(df_test)\n",
        "prepared_df_test = test_dataset.with_transform(transform)"
      ],
      "metadata": {
        "id": "Spf9HWzWdtKA"
      },
      "execution_count": null,
      "outputs": []
    },
    {
      "cell_type": "code",
      "source": [
        "import gc\n",
        "del df_test, X_test, Y_test, prepared_df_val, X_train, Y_train, train_dataset, val_dataset # , prepared_df_train\n",
        "gc.collect()\n",
        "torch.cuda.empty_cache()"
      ],
      "metadata": {
        "id": "f8DI4Br6eW_G"
      },
      "execution_count": null,
      "outputs": []
    },
    {
      "cell_type": "code",
      "source": [
        "metrics = trainer.evaluate(prepared_df_test)\n",
        "trainer.log_metrics(\"eval\", metrics)\n",
        "trainer.save_metrics(\"eval\", metrics)\n"
      ],
      "metadata": {
        "colab": {
          "base_uri": "https://localhost:8080/",
          "height": 158
        },
        "id": "NoP_f6ztcNFg",
        "outputId": "dbe9b8b9-5b08-4a4e-fada-023b889eb994"
      },
      "execution_count": null,
      "outputs": [
        {
          "output_type": "display_data",
          "data": {
            "text/plain": [
              "<IPython.core.display.HTML object>"
            ],
            "text/html": [
              "\n",
              "    <div>\n",
              "      \n",
              "      <progress value='459' max='459' style='width:300px; height:20px; vertical-align: middle;'></progress>\n",
              "      [459/459 00:41]\n",
              "    </div>\n",
              "    "
            ]
          },
          "metadata": {}
        },
        {
          "output_type": "stream",
          "name": "stdout",
          "text": [
            "***** eval metrics *****\n",
            "  epoch                   =       10.0\n",
            "  eval_accuracy           =      0.864\n",
            "  eval_loss               =      0.515\n",
            "  eval_runtime            = 0:00:41.80\n",
            "  eval_samples_per_second =     87.762\n",
            "  eval_steps_per_second   =     10.979\n"
          ]
        }
      ]
    },
    {
      "cell_type": "code",
      "source": [
        "#lr = 0.001\n",
        "train_losses = [2.123100, 0.710800, 0.328200, 0.210600, 0.132500, 0.098900, 0.050700, 0.024200, 0.020900, 0.01340]\n",
        "val_losses = [1.295734, 0.586987, 0.527236, 0.610510, 0.649952, 0.648662, 0.538108, 0.433516, 0.413480, 0.424163]\n",
        "val_accuracies = [0.826087, 0.857337, 0.849185, 0.832880, 0.816576, 0.827446, 0.862772, 0.885870, 0.896739, 0.892663]\n",
        "epochs = [0, 1, 2, 3, 4, 5, 6, 7, 8, 9]\n"
      ],
      "metadata": {
        "id": "Xlaahz-xy2IS"
      },
      "execution_count": null,
      "outputs": []
    },
    {
      "cell_type": "code",
      "source": [
        "train_losses = [2.593500, 1.496700, 0.836600, 0.394400, 0.273200, 0.209500, 0.163300, 0.146400, 0.136200, 0.129800]\n",
        "val_losses = [2.062820, 1.200548, 0.749444, 0.538310, 0.447560, 0.403021, 0.377661, 0.363401, 0.357158, 0.354743]\n",
        "val_accuracies = [0.904891, 0.933424, 0.940217,\t0.938859, 0.933424, 0.936141, 0.936141, 0.934783, 0.936141, 0.936141]\n",
        "epochs = [0, 1, 2, 3, 4, 5, 6, 7, 8, 9]\n"
      ],
      "metadata": {
        "id": "vh-NHo_5px8l"
      },
      "execution_count": null,
      "outputs": []
    },
    {
      "cell_type": "code",
      "source": [
        "# Plot our training curves\n",
        "import matplotlib.pyplot as plt\n",
        "\n",
        "plt.plot(epochs, val_accuracies)\n",
        "plt.title('Validation Accuracy for VIT')\n",
        "plt.xlabel('epoch')\n",
        "plt.ylabel('Accuracy')\n",
        "# Display the plot\n",
        "plt.show()\n",
        "\n",
        "plt.plot(epochs, train_losses, label='Training loss')\n",
        "plt.plot(epochs, val_losses, label='Validation loss')\n",
        "plt.title('Training-Validation Losses for VIT')\n",
        "plt.xlabel('epoch')\n",
        "plt.ylabel('Loss')\n",
        "plt.legend()\n",
        "# Display the plot\n",
        "plt.show()"
      ],
      "metadata": {
        "colab": {
          "base_uri": "https://localhost:8080/",
          "height": 927
        },
        "id": "GyOBaIgvoznQ",
        "outputId": "6a2ba878-b2ba-4928-8200-2d9313e05c39"
      },
      "execution_count": null,
      "outputs": [
        {
          "output_type": "display_data",
          "data": {
            "text/plain": [
              "<Figure size 640x480 with 1 Axes>"
            ],
            "image/png": "[encoded data removed]"
          },
          "metadata": {}
        },
        {
          "output_type": "display_data",
          "data": {
            "text/plain": [
              "<Figure size 640x480 with 1 Axes>"
            ],
            "image/png": "[encoded data removed]"
          },
          "metadata": {}
        }
      ]
    },
    {
      "cell_type": "markdown",
      "source": [
        "# **Semi-supervised Learning**"
      ],
      "metadata": {
        "id": "0WIJzPIVkflt"
      }
    },
    {
      "cell_type": "code",
      "source": [
        "import numpy as np\n",
        "import pandas as pd\n",
        "import matplotlib.pyplot as plt\n",
        "from sklearn.model_selection import train_test_split\n",
        "import torchvision.transforms as transforms\n",
        "from PIL import Image\n",
        "from helper_methods import get_train_val_mltclass, get_test, create_dataset_mltclass, show_images, load_and_transform_image\n",
        "import torch\n",
        "import torchvision\n",
        "import torch\n",
        "import torch.nn as nn\n",
        "import torch.nn.functional as F\n",
        "import torchvision.models as models\n",
        "from torchvision.models import ResNet34_Weights\n",
        "from torchvision.models import resnet18, ResNet18_Weights\n",
        "\n",
        "from torch.utils.data import TensorDataset, DataLoader"
      ],
      "metadata": {
        "id": "XYHwDpA-pJa6"
      },
      "execution_count": 1,
      "outputs": []
    },
    {
      "cell_type": "code",
      "source": [
        "from google.colab import drive\n",
        "drive.mount('/content/drive')"
      ],
      "metadata": {
        "colab": {
          "base_uri": "https://localhost:8080/"
        },
        "id": "z142fbAZpQHU",
        "outputId": "3ad10cc0-5fbc-4ed9-e3f1-dd7360f9d99e"
      },
      "execution_count": 2,
      "outputs": [
        {
          "output_type": "stream",
          "name": "stdout",
          "text": [
            "Mounted at /content/drive\n"
          ]
        }
      ]
    },
    {
      "cell_type": "code",
      "source": [
        "import tarfile\n",
        "\n",
        "# Unzipping the annotations file\n",
        "annotations_tar_path = '/content/drive/MyDrive/annotations.tar.gz'\n",
        "annotations_extract_path = '/content/annotations'\n",
        "with tarfile.open(annotations_tar_path, 'r:gz') as tar:\n",
        "    tar.extractall(path=annotations_extract_path)\n",
        "\n",
        "# Unzipping the images file\n",
        "images_tar_path = '/content/drive/MyDrive/images.tar.gz'\n",
        "images_extract_path = '/content/images'\n",
        "with tarfile.open(images_tar_path, 'r:gz') as tar:\n",
        "    tar.extractall(path=images_extract_path)"
      ],
      "metadata": {
        "id": "XzG0Ukg-pF9r"
      },
      "execution_count": 3,
      "outputs": []
    },
    {
      "cell_type": "code",
      "source": [
        "df_train, df_val = get_train_val_mltclass(filepath='/content/annotations/annotations/trainval.txt', val_size=0.2)\n",
        "X_train, Y_train = create_dataset_mltclass(df_train, base_path = \"/content/images/images/\", augment=True)\n",
        "X_val, Y_val = create_dataset_mltclass(df_val, base_path=\"/content/images/images/\", augment = False)\n",
        "\n",
        "# Convert Y_train and Y_val to Long right after their creation\n",
        "Y_train = Y_train.long()\n",
        "Y_val = Y_val.long()\n",
        "\n",
        "\n",
        "#test data\n",
        "df_test = get_test(filepath='/content/annotations/annotations/test.txt')\n",
        "X_test, Y_test = create_dataset_mltclass(df_test, base_path=\"/content/images/images/\")\n",
        "\n",
        "# Convert Y_test to Long\n",
        "Y_test = Y_test.long()"
      ],
      "metadata": {
        "id": "eP00qDdLpCKh"
      },
      "execution_count": 4,
      "outputs": []
    },
    {
      "cell_type": "code",
      "source": [
        "def accuracy(outputs, labels):\n",
        "    _, preds = torch.max(outputs, dim=1)\n",
        "    return torch.tensor(torch.sum(preds == labels).item() / len(preds))\n",
        "\n",
        "class ImageClassificationBase(nn.Module):\n",
        "\n",
        "    def training_step(self, batch):\n",
        "        #print(\"TRAINING DEVIDE: \", device)\n",
        "        images, labels = batch\n",
        "        images, labels = images.to(device), labels.to(device)  # Move data to GPU\n",
        "        out = self(images)\n",
        "        loss = F.cross_entropy(out, labels)\n",
        "        return loss\n",
        "\n",
        "    # def validation_step(self, batch):\n",
        "    #     images, labels = batch\n",
        "    #     images, labels = images.to(device), labels.to(device)  # Move data to GPU\n",
        "    #     out = self(images)\n",
        "    #     with torch.no_grad():\n",
        "    #         loss = F.cross_entropy(out, labels)\n",
        "    #         acc = accuracy(out, labels)\n",
        "\n",
        "    #     return {'val_loss': loss.detach(), 'val_acc': acc}\n",
        "\n",
        "    def validation_step(self, batch):\n",
        "      images, labels = batch\n",
        "      #print(\"VALIDATION DEVICE: \", device)\n",
        "      images, labels = images.to(device), labels.to(device)  # Move data to GPU\n",
        "      out = self(images)\n",
        "\n",
        "      # Compute loss\n",
        "      loss = F.cross_entropy(out, labels)\n",
        "\n",
        "      # Compute number of correct predictions\n",
        "      _, predicted = torch.max(out, 1)\n",
        "      num_correct = (predicted == labels).sum().item()\n",
        "\n",
        "      return {'val_loss': loss.detach(), 'num_correct': num_correct}\n",
        "\n",
        "    def predict(self, images):\n",
        "      #images, _ = batch\n",
        "      images = images.to(device)\n",
        "      out = self(images)\n",
        "      _, predicted = torch.max(out, 1)\n",
        "      return predicted\n"
      ],
      "metadata": {
        "id": "Fa_cSsmVl8Ti"
      },
      "execution_count": 5,
      "outputs": []
    },
    {
      "cell_type": "code",
      "source": [
        "import torch.nn as nn\n",
        "\n",
        "def set_bn_eval(module):\n",
        "    \"\"\"Set BatchNorm layers in evaluation mode.\"\"\"\n",
        "    if isinstance(module, nn.BatchNorm2d):\n",
        "        module.eval()\n"
      ],
      "metadata": {
        "id": "fmZIdRD8mAuR"
      },
      "execution_count": 6,
      "outputs": []
    },
    {
      "cell_type": "code",
      "source": [
        "class DogsCatsCnnModelResNet34(ImageClassificationBase):\n",
        "    def __init__(self):\n",
        "\n",
        "        super().__init__()\n",
        "        # Use a pretrained model\n",
        "        self.network = models.resnet34(weights=ResNet34_Weights.DEFAULT)\n",
        "        # Replace last layer\n",
        "        num_ftrs = self.network.fc.in_features\n",
        "        #self.network.fc = nn.Linear(num_ftrs, 37)\n",
        "\n",
        "        self.network.fc = nn.Sequential(\n",
        "                          nn.Dropout(0.5),\n",
        "                          nn.Linear(num_ftrs, 37)\n",
        "                      )\n",
        "\n",
        "        # Freeze the early layers\n",
        "        for name, param in self.network.named_parameters():\n",
        "            if 'layer1' in name or 'layer2' in name or 'layer3' in name:\n",
        "                param.requires_grad = False\n",
        "\n",
        "                # Apply the batch normalization adjustment\n",
        "                if isinstance(param, nn.BatchNorm2d):\n",
        "                    set_bn_eval(param)\n",
        "\n",
        "    def forward(self, xb):\n",
        "        return torch.sigmoid(self.network(xb))\n",
        "\n",
        "    def predict(self, images):\n",
        "      return super().predict(images)"
      ],
      "metadata": {
        "id": "LBtQMo0fmDTw"
      },
      "execution_count": 7,
      "outputs": []
    },
    {
      "cell_type": "code",
      "source": [
        "from torch.optim.lr_scheduler import ReduceLROnPlateau\n",
        "\n",
        "# Check if GPU is available and set device\n",
        "device = torch.device(\"cuda\" if torch.cuda.is_available() else \"cpu\")\n",
        "print(\"Using device:\", device)\n",
        "\n",
        "#@torch.no_grad()\n",
        "def evaluate(model, X_val, Y_val, batch_size=256):\n",
        "    with torch.no_grad():\n",
        "      model.eval()\n",
        "\n",
        "    loss = 0\n",
        "    correct = 0\n",
        "    total_samples = 0\n",
        "    # Try loadign data into batches\n",
        "    val_loader = DataLoader(TensorDataset(X_val, Y_val), batch_size=batch_size, shuffle=False)\n",
        "    with torch.no_grad():\n",
        "      for batch in val_loader:\n",
        "        X_batch, Y_batch = batch\n",
        "        #X_batch, Y_batch = X_batch.to(device), Y_batch.to(device)  # Move batch data to the GPU\n",
        "        outputs = model.validation_step([X_batch, Y_batch])\n",
        "        loss += outputs['val_loss'].item() * len(batch[0])\n",
        "        correct += outputs['num_correct']\n",
        "        total_samples += len(batch[0])\n",
        "\n",
        "    return {'val_loss': loss / total_samples, 'accuracy': correct / total_samples}\n",
        "    #batch = [X_val.to(device), Y_val.to(device)]  # Move batch data to the GPU\n",
        "    #outputs = model.validation_step(batch)\n",
        "    #return outputs\n",
        "\n",
        "def fit(model, epochs, lr, X_train, Y_train, X_val, Y_val, batch_size=32, opt_func=torch.optim.SGD):\n",
        "    history = []\n",
        "    # optimizer = opt_func(model.parameters(), lr)\n",
        "\n",
        "    # Filter out the parameters to update to ensure that \"Only Unfrozen Parameters Are Passed to the Optimizer\"\n",
        "    params_to_update = [p for p in model.parameters() if p.requires_grad]\n",
        "    optimizer = opt_func(params_to_update, lr)\n",
        "\n",
        "    scheduler = ReduceLROnPlateau(optimizer, mode='max', factor=0.1, patience=3, verbose=True)\n",
        "\n",
        "\n",
        "    # Create TensorDataset and DataLoader for training data\n",
        "    train_dataset = TensorDataset(X_train, Y_train)\n",
        "    train_loader = DataLoader(train_dataset, batch_size=batch_size, shuffle=True) #, num_workers=4\n",
        "\n",
        "    # Move the model to the GPU\n",
        "    model = model.to(device)\n",
        "    #print(\"MODEL TO DEVICE: \", device)\n",
        "\n",
        "    for epoch in range(epochs):\n",
        "        print(f\"Epoch: {epoch}\")\n",
        "\n",
        "        # Training Phase\n",
        "        model.train()\n",
        "        train_losses = []\n",
        "        for i, batch in enumerate(train_loader):\n",
        "            X_batch, Y_batch = batch\n",
        "            #X_batch, Y_batch = X_batch.to(device), Y_batch.to(device)  # Move batch data to the GPU\n",
        "\n",
        "            loss = model.training_step([X_batch, Y_batch])\n",
        "            train_losses.append(loss)\n",
        "            loss.backward()\n",
        "            optimizer.step()\n",
        "            optimizer.zero_grad()\n",
        "\n",
        "        # Validation phase\n",
        "        result = evaluate(model, X_val, Y_val, batch_size)\n",
        "        print(f\"Epoch {epoch}, result: {result}\")\n",
        "        history.append(result)\n",
        "\n",
        "        torch.cuda.empty_cache()\n",
        "\n",
        "\n",
        "    return history"
      ],
      "metadata": {
        "colab": {
          "base_uri": "https://localhost:8080/"
        },
        "id": "yuRbLTAWmGfe",
        "outputId": "cc0b4c7c-ec71-4079-d1b3-57e2a9c58bd9"
      },
      "execution_count": 8,
      "outputs": [
        {
          "output_type": "stream",
          "name": "stdout",
          "text": [
            "Using device: cuda\n"
          ]
        }
      ]
    },
    {
      "cell_type": "code",
      "source": [
        "# Use 100%, 50%, 10% and 1% of training data\n",
        "print(X_train.shape)\n",
        "# 50 %\n",
        "X_train_half = X_train[:len(X_train) // 2]\n",
        "Y_train_half = Y_train[:len(Y_train) // 2]\n",
        "X_unlabeled_half = X_train[len(X_train) // 2:]\n",
        "Y_unlabeled_half = Y_train[len(Y_train) // 2:]\n",
        "print(X_train_half.shape)\n",
        "print(Y_train_half.shape)\n",
        "print(X_unlabeled_half.shape)\n",
        "print(Y_unlabeled_half.shape)\n",
        "# 10 %\n",
        "X_train_ten = X_train[:len(X_train) // 10]\n",
        "Y_train_ten = Y_train[:len(Y_train) // 10]\n",
        "X_unlabeled_ten = X_train[len(X_train) // 10:]\n",
        "Y_unlabeled_ten = Y_train[len(Y_train) // 10:]\n",
        "print(X_train_ten.shape)\n",
        "print(Y_train_ten.shape)\n",
        "print(X_unlabeled_ten.shape)\n",
        "print(Y_unlabeled_ten.shape)\n",
        "# 1 %\n",
        "X_train_one = X_train[:len(X_train) // 100]\n",
        "Y_train_one = Y_train[:len(Y_train) // 100]\n",
        "X_unlabeled_one = X_train[len(X_train) // 100:]\n",
        "Y_unlabeled_one = Y_train[len(Y_train) // 100:]\n",
        "print(X_train_one.shape)\n",
        "print(Y_train_one.shape)\n",
        "print(X_unlabeled_one.shape)\n",
        "print(Y_unlabeled_one.shape)\n"
      ],
      "metadata": {
        "colab": {
          "base_uri": "https://localhost:8080/"
        },
        "id": "ZWdq3qwymTZz",
        "outputId": "d1f6035a-45a6-4342-f6b2-9de191e64d87"
      },
      "execution_count": 9,
      "outputs": [
        {
          "output_type": "stream",
          "name": "stdout",
          "text": [
            "torch.Size([2944, 3, 224, 224])\n",
            "torch.Size([1472, 3, 224, 224])\n",
            "torch.Size([1472])\n",
            "torch.Size([1472, 3, 224, 224])\n",
            "torch.Size([1472])\n",
            "torch.Size([294, 3, 224, 224])\n",
            "torch.Size([294])\n",
            "torch.Size([2650, 3, 224, 224])\n",
            "torch.Size([2650])\n",
            "torch.Size([29, 3, 224, 224])\n",
            "torch.Size([29])\n",
            "torch.Size([2915, 3, 224, 224])\n",
            "torch.Size([2915])\n"
          ]
        }
      ]
    },
    {
      "cell_type": "code",
      "source": [
        "class DogsCatsCnnModelResNet18(ImageClassificationBase):\n",
        "    def __init__(self):\n",
        "\n",
        "        super().__init__()\n",
        "        # Use a pretrained model\n",
        "        self.network = models.resnet18(weights=ResNet18_Weights.DEFAULT)\n",
        "        # Replace last layer\n",
        "        num_ftrs = self.network.fc.in_features\n",
        "        #self.network.fc = nn.Linear(num_ftrs, 37)\n",
        "\n",
        "        self.network.fc = nn.Sequential(\n",
        "                          nn.Dropout(0.5),\n",
        "                          nn.Linear(num_ftrs, 37)\n",
        "                      )\n",
        "\n",
        "        # Freeze the early layers\n",
        "        for name, param in self.network.named_parameters():\n",
        "            if 'layer1' in name or 'layer2' in name or 'layer3' in name:\n",
        "                param.requires_grad = False\n",
        "\n",
        "                # Apply the batch normalization adjustment\n",
        "                if isinstance(param, nn.BatchNorm2d):\n",
        "                    set_bn_eval(param)\n",
        "\n",
        "    def forward(self, xb):\n",
        "        return torch.sigmoid(self.network(xb))\n",
        "\n",
        "    def predict(self, images):\n",
        "      return super().predict(images)"
      ],
      "metadata": {
        "id": "Q5e9IUAo79hw"
      },
      "execution_count": 10,
      "outputs": []
    },
    {
      "cell_type": "code",
      "source": [
        "# We use ResNet18 as our teacher model\n",
        "#model_resnet_18_half = DogsCatsCnnModelResNet18().to(device)\n",
        "model_resnet_18_half_teacher = DogsCatsCnnModelResNet18()\n",
        "num_epochs = 10\n",
        "opt_func = torch.optim.Adam\n",
        "batch_size = 256\n",
        "lr = 0.001\n",
        "history_half = fit(model_resnet_18_half_teacher, num_epochs, lr, X_train_half, Y_train_half, X_val, Y_val, batch_size, opt_func)\n"
      ],
      "metadata": {
        "colab": {
          "base_uri": "https://localhost:8080/"
        },
        "id": "_7rNimyQ9VM2",
        "outputId": "ef4b494f-5bea-4454-d1ab-0cd174ecb4e8"
      },
      "execution_count": 11,
      "outputs": [
        {
          "output_type": "stream",
          "name": "stderr",
          "text": [
            "Downloading: \"https://download.pytorch.org/models/resnet18-f37072fd.pth\" to /root/.cache/torch/hub/checkpoints/resnet18-f37072fd.pth\n",
            "100%|██████████| 44.7M/44.7M [00:00<00:00, 65.2MB/s]\n",
            "/usr/local/lib/python3.10/dist-packages/torch/optim/lr_scheduler.py:28: UserWarning: The verbose parameter is deprecated. Please use get_last_lr() to access the learning rate.\n",
            "  warnings.warn(\"The verbose parameter is deprecated. Please use get_last_lr() \"\n"
          ]
        },
        {
          "output_type": "stream",
          "name": "stdout",
          "text": [
            "Epoch: 0\n",
            "Epoch 0, result: {'val_loss': 3.0208529596743374, 'accuracy': 0.5584239130434783}\n",
            "Epoch: 1\n",
            "Epoch 1, result: {'val_loss': 2.9499097596044126, 'accuracy': 0.6521739130434783}\n",
            "Epoch: 2\n",
            "Epoch 2, result: {'val_loss': 2.890383243560791, 'accuracy': 0.7730978260869565}\n",
            "Epoch: 3\n",
            "Epoch 3, result: {'val_loss': 2.894255835077037, 'accuracy': 0.7758152173913043}\n",
            "Epoch: 4\n",
            "Epoch 4, result: {'val_loss': 2.8979983018792193, 'accuracy': 0.8029891304347826}\n",
            "Epoch: 5\n",
            "Epoch 5, result: {'val_loss': 2.904509160829627, 'accuracy': 0.8070652173913043}\n",
            "Epoch: 6\n",
            "Epoch 6, result: {'val_loss': 2.9063151712002964, 'accuracy': 0.813858695652174}\n",
            "Epoch: 7\n",
            "Epoch 7, result: {'val_loss': 2.9114815566850747, 'accuracy': 0.8260869565217391}\n",
            "Epoch: 8\n",
            "Epoch 8, result: {'val_loss': 2.9290839174519414, 'accuracy': 0.8125}\n",
            "Epoch: 9\n",
            "Epoch 9, result: {'val_loss': 2.9190464952717656, 'accuracy': 0.8165760869565217}\n"
          ]
        }
      ]
    },
    {
      "cell_type": "code",
      "source": [
        "evaluate_teacher_half = evaluate(model_resnet_18_half_teacher, X_test, Y_test)\n",
        "print(\"Evaluation of model trained on the 50% of dataset\", evaluate_teacher_half)\n"
      ],
      "metadata": {
        "colab": {
          "base_uri": "https://localhost:8080/"
        },
        "id": "CzYEpSTh93YL",
        "outputId": "01a23d8c-af0f-4b0b-b174-8ca7a002544f"
      },
      "execution_count": 12,
      "outputs": [
        {
          "output_type": "stream",
          "name": "stdout",
          "text": [
            "Evaluation of model trained on the 50% of dataset {'val_loss': 2.976231125662391, 'accuracy': 0.7743254292722813}\n"
          ]
        }
      ]
    },
    {
      "cell_type": "code",
      "source": [
        "torch.cuda.empty_cache()\n",
        "# Create TensorDataset and DataLoader for training data\n",
        "dataset = TensorDataset(X_unlabeled_half, Y_unlabeled_half)\n",
        "data_loader = DataLoader(dataset, batch_size=batch_size, shuffle=False, num_workers=4)\n",
        "\n",
        "predictions = []\n",
        "with torch.no_grad():\n",
        "  for i, batch in enumerate(data_loader):\n",
        "        images, _ = batch\n",
        "        predictions.append(model_resnet_18_half_teacher.predict(images))\n",
        "#print(predictions)"
      ],
      "metadata": {
        "colab": {
          "base_uri": "https://localhost:8080/"
        },
        "id": "mLs-x5BD-2jF",
        "outputId": "33312943-66e5-46e6-ef07-115e68e2d36c"
      },
      "execution_count": 13,
      "outputs": [
        {
          "output_type": "stream",
          "name": "stderr",
          "text": [
            "/usr/local/lib/python3.10/dist-packages/torch/utils/data/dataloader.py:558: UserWarning: This DataLoader will create 4 worker processes in total. Our suggested max number of worker in current system is 2, which is smaller than what this DataLoader is going to create. Please be aware that excessive worker creation might get DataLoader running slow or even freeze, lower the worker number to avoid potential slowness/freeze if necessary.\n",
            "  warnings.warn(_create_warning_msg(\n"
          ]
        }
      ]
    },
    {
      "cell_type": "code",
      "source": [
        "flattened_predictions = [prediction.flatten() for prediction in predictions]\n",
        "Y_unlabeled_half_predictions = torch.cat(flattened_predictions)\n",
        "print(len(Y_unlabeled_half_predictions))\n",
        "print(len(Y_unlabeled_half))\n",
        "#print(Y_unlabeled_half_predictions[1])\n",
        "#print(Y_unlabeled_half[1])\n",
        "Y_unlabeled_half = Y_unlabeled_half.to(device)\n",
        "#print(predictions_flat[1])\n",
        "#print(Y_unlabeled_half[1])\n",
        "acc = (Y_unlabeled_half_predictions == Y_unlabeled_half).sum().item() / len(Y_unlabeled_half)\n",
        "print(\"Accuracy: \", acc)\n"
      ],
      "metadata": {
        "id": "83y8--psRwzP",
        "colab": {
          "base_uri": "https://localhost:8080/"
        },
        "outputId": "31c07684-e52a-41f7-b996-5bfe13ac33f4"
      },
      "execution_count": 14,
      "outputs": [
        {
          "output_type": "stream",
          "name": "stdout",
          "text": [
            "1472\n",
            "1472\n",
            "Accuracy:  0.6875\n"
          ]
        }
      ]
    },
    {
      "cell_type": "code",
      "source": [
        "# Concatenate the dataset with the pseudo labels so that we can train the student model in the entire dataset\n",
        "\n",
        "\n",
        "X_train_half_concatenated =  torch.cat((X_train_half, X_unlabeled_half), dim=0)\n",
        "Y_train_half_concatenated = torch.cat((Y_train_half.to(device), Y_unlabeled_half_predictions), dim=0)\n",
        "\n",
        "model_resnet_18_half_student = DogsCatsCnnModelResNet18()\n",
        "num_epochs = 10\n",
        "opt_func = torch.optim.Adam\n",
        "batch_size = 256\n",
        "lr = 0.001\n"
      ],
      "metadata": {
        "id": "21ushYYih3-X"
      },
      "execution_count": 15,
      "outputs": []
    },
    {
      "cell_type": "code",
      "source": [
        "device = torch.device(\"cuda\")\n",
        "print(\"Using device:\", device)\n",
        "fit(model_resnet_18_half_student, num_epochs, lr, X_train_half_concatenated, Y_train_half_concatenated, X_val, Y_val, batch_size, opt_func)\n"
      ],
      "metadata": {
        "colab": {
          "base_uri": "https://localhost:8080/"
        },
        "id": "UHymQVS-othb",
        "outputId": "a04d53c4-75be-4684-a098-d7b523cdb730"
      },
      "execution_count": 16,
      "outputs": [
        {
          "output_type": "stream",
          "name": "stdout",
          "text": [
            "Using device: cuda\n",
            "Epoch: 0\n",
            "Epoch 0, result: {'val_loss': 2.9332734812860903, 'accuracy': 0.6453804347826086}\n",
            "Epoch: 1\n",
            "Epoch 1, result: {'val_loss': 2.8289503843887993, 'accuracy': 0.779891304347826}\n",
            "Epoch: 2\n",
            "Epoch 2, result: {'val_loss': 2.8502312328504478, 'accuracy': 0.7785326086956522}\n",
            "Epoch: 3\n",
            "Epoch 3, result: {'val_loss': 2.8454841012540073, 'accuracy': 0.8043478260869565}\n",
            "Epoch: 4\n",
            "Epoch 4, result: {'val_loss': 2.8385265184485395, 'accuracy': 0.8002717391304348}\n",
            "Epoch: 5\n",
            "Epoch 5, result: {'val_loss': 2.854140095088793, 'accuracy': 0.7975543478260869}\n",
            "Epoch: 6\n",
            "Epoch 6, result: {'val_loss': 2.839310936305834, 'accuracy': 0.8165760869565217}\n",
            "Epoch: 7\n",
            "Epoch 7, result: {'val_loss': 2.8548117098600967, 'accuracy': 0.8410326086956522}\n",
            "Epoch: 8\n",
            "Epoch 8, result: {'val_loss': 2.8504902694536294, 'accuracy': 0.8491847826086957}\n",
            "Epoch: 9\n",
            "Epoch 9, result: {'val_loss': 2.852610681367957, 'accuracy': 0.8519021739130435}\n"
          ]
        },
        {
          "output_type": "execute_result",
          "data": {
            "text/plain": [
              "[{'val_loss': 2.9332734812860903, 'accuracy': 0.6453804347826086},\n",
              " {'val_loss': 2.8289503843887993, 'accuracy': 0.779891304347826},\n",
              " {'val_loss': 2.8502312328504478, 'accuracy': 0.7785326086956522},\n",
              " {'val_loss': 2.8454841012540073, 'accuracy': 0.8043478260869565},\n",
              " {'val_loss': 2.8385265184485395, 'accuracy': 0.8002717391304348},\n",
              " {'val_loss': 2.854140095088793, 'accuracy': 0.7975543478260869},\n",
              " {'val_loss': 2.839310936305834, 'accuracy': 0.8165760869565217},\n",
              " {'val_loss': 2.8548117098600967, 'accuracy': 0.8410326086956522},\n",
              " {'val_loss': 2.8504902694536294, 'accuracy': 0.8491847826086957},\n",
              " {'val_loss': 2.852610681367957, 'accuracy': 0.8519021739130435}]"
            ]
          },
          "metadata": {},
          "execution_count": 16
        }
      ]
    },
    {
      "cell_type": "code",
      "source": [
        "evaluate_student_half = evaluate(model_resnet_18_half_student, X_test, Y_test)\n",
        "print(\"Evaluation of model trained on the 50% of dataset\", evaluate_student_half)"
      ],
      "metadata": {
        "colab": {
          "base_uri": "https://localhost:8080/"
        },
        "id": "4wVaF4OEk2wF",
        "outputId": "13a0c935-fb11-45cb-af0d-323c24bfba60"
      },
      "execution_count": 17,
      "outputs": [
        {
          "output_type": "stream",
          "name": "stdout",
          "text": [
            "Evaluation of model trained on the 50% of dataset {'val_loss': 2.9114589610584556, 'accuracy': 0.7964022894521668}\n"
          ]
        }
      ]
    },
    {
      "cell_type": "code",
      "source": [
        "import gc\n",
        "# Delete variables\n",
        "del evaluate_student_half, model_resnet_18_half_student, X_train_half_concatenated, Y_train_half_concatenated\n",
        "del X_train_half, X_unlabeled_half, Y_train_half, Y_unlabeled_half, Y_unlabeled_half_predictions, flattened_predictions\n",
        "del model_resnet_18_half_teacher, X_train, Y_train\n",
        "# Run garbage collection\n",
        "gc.collect()\n",
        "\n",
        "torch.cuda.empty_cache()\n"
      ],
      "metadata": {
        "id": "iu7WjAaqwHxw"
      },
      "execution_count": 18,
      "outputs": []
    },
    {
      "cell_type": "code",
      "source": [
        "model_resnet_18_ten_teacher = DogsCatsCnnModelResNet18()\n",
        "num_epochs = 10\n",
        "opt_func = torch.optim.Adam\n",
        "batch_size = 256\n",
        "lr = 0.001\n",
        "fit(model_resnet_18_ten_teacher, num_epochs, lr, X_train_ten, Y_train_ten, X_val, Y_val, batch_size, opt_func)\n",
        "\n",
        "evaluate_teacher_ten = evaluate(model_resnet_18_ten_teacher, X_test, Y_test)\n",
        "print(\"Evaluation of model trained on the 10% of dataset\", evaluate_teacher_ten)\n",
        "\n",
        "\n",
        "torch.cuda.empty_cache()\n",
        "# Create TensorDataset and DataLoader for training data\n",
        "dataset = TensorDataset(X_unlabeled_ten, Y_unlabeled_ten)\n",
        "data_loader = DataLoader(dataset, batch_size=batch_size, shuffle=False, num_workers=4) #, num_workers=4\n",
        "\n",
        "predictions = []\n",
        "with torch.no_grad():\n",
        "  for i, batch in enumerate(data_loader):\n",
        "        images, _ = batch\n",
        "        predictions.append(model_resnet_18_ten_teacher.predict(images))\n",
        "#print(predictions)\n",
        "\n",
        "flattened_predictions = [prediction.flatten() for prediction in predictions]\n",
        "Y_unlabeled_ten_predictions = torch.cat(flattened_predictions)\n",
        "print(len(Y_unlabeled_ten_predictions))\n",
        "print(len(Y_unlabeled_ten))\n",
        "\n",
        "Y_unlabeled_ten = Y_unlabeled_ten.to(device)\n",
        "#print(predictions_flat[1])\n",
        "#print(Y_unlabeled_half[1])\n",
        "acc = (Y_unlabeled_ten_predictions == Y_unlabeled_ten).sum().item() / len(Y_unlabeled_ten)\n",
        "print(\"Accuracy: \", acc)\n"
      ],
      "metadata": {
        "colab": {
          "base_uri": "https://localhost:8080/"
        },
        "id": "UcROYSE-wJH3",
        "outputId": "b63341c5-117f-405f-8117-488fa9b02f17"
      },
      "execution_count": 19,
      "outputs": [
        {
          "output_type": "stream",
          "name": "stdout",
          "text": [
            "Epoch: 0\n",
            "Epoch 0, result: {'val_loss': 3.3459545944048013, 'accuracy': 0.28804347826086957}\n",
            "Epoch: 1\n",
            "Epoch 1, result: {'val_loss': 3.2196888612664263, 'accuracy': 0.3111413043478261}\n",
            "Epoch: 2\n",
            "Epoch 2, result: {'val_loss': 3.147295381711877, 'accuracy': 0.3654891304347826}\n",
            "Epoch: 3\n",
            "Epoch 3, result: {'val_loss': 3.135014772415161, 'accuracy': 0.4361413043478261}\n",
            "Epoch: 4\n",
            "Epoch 4, result: {'val_loss': 3.141985167627749, 'accuracy': 0.46467391304347827}\n",
            "Epoch: 5\n",
            "Epoch 5, result: {'val_loss': 3.140621672505918, 'accuracy': 0.4796195652173913}\n",
            "Epoch: 6\n",
            "Epoch 6, result: {'val_loss': 3.1615531755530317, 'accuracy': 0.49592391304347827}\n",
            "Epoch: 7\n",
            "Epoch 7, result: {'val_loss': 3.1929068047067393, 'accuracy': 0.49184782608695654}\n",
            "Epoch: 8\n",
            "Epoch 8, result: {'val_loss': 3.2190394401550293, 'accuracy': 0.49728260869565216}\n",
            "Epoch: 9\n",
            "Epoch 9, result: {'val_loss': 3.2278668880462646, 'accuracy': 0.53125}\n",
            "Evaluation of model trained on the 10% of dataset {'val_loss': 3.2499919402303665, 'accuracy': 0.47914963205233035}\n",
            "2650\n",
            "2650\n",
            "Accuracy:  0.3905660377358491\n"
          ]
        }
      ]
    },
    {
      "cell_type": "code",
      "source": [
        "# Concatenate the dataset with the pseudo labels so that we can train the student model in the entire dataset\n",
        "\n",
        "X_train_ten_concatenated =  torch.cat((X_train_ten, X_unlabeled_ten), dim=0)\n",
        "Y_train_ten_concatenated = torch.cat((Y_train_ten.to(device), Y_unlabeled_ten_predictions), dim=0)\n",
        "\n",
        "model_resnet_18_ten_student = DogsCatsCnnModelResNet18()\n",
        "num_epochs = 10\n",
        "opt_func = torch.optim.Adam\n",
        "batch_size = 256\n",
        "lr = 0.001\n",
        "fit(model_resnet_18_ten_student, num_epochs, lr, X_train_ten_concatenated, Y_train_ten_concatenated, X_val, Y_val, batch_size, opt_func)\n",
        "\n",
        "evaluate_student_ten= evaluate(model_resnet_18_ten_student, X_test, Y_test)\n",
        "print(\"Evaluation of model trained on the 10% of dataset\", evaluate_student_ten)"
      ],
      "metadata": {
        "colab": {
          "base_uri": "https://localhost:8080/"
        },
        "id": "E62YmgwMz7eR",
        "outputId": "467cdec9-f094-4abb-f985-1c4e43d13603"
      },
      "execution_count": 20,
      "outputs": [
        {
          "output_type": "stream",
          "name": "stdout",
          "text": [
            "Epoch: 0\n",
            "Epoch 0, result: {'val_loss': 3.178751551586649, 'accuracy': 0.3016304347826087}\n",
            "Epoch: 1\n",
            "Epoch 1, result: {'val_loss': 3.080195157424263, 'accuracy': 0.41847826086956524}\n",
            "Epoch: 2\n",
            "Epoch 2, result: {'val_loss': 3.1132408328678296, 'accuracy': 0.45516304347826086}\n",
            "Epoch: 3\n",
            "Epoch 3, result: {'val_loss': 3.084619024525518, 'accuracy': 0.49184782608695654}\n",
            "Epoch: 4\n",
            "Epoch 4, result: {'val_loss': 3.105363420818163, 'accuracy': 0.5081521739130435}\n",
            "Epoch: 5\n",
            "Epoch 5, result: {'val_loss': 3.1113410617994224, 'accuracy': 0.5040760869565217}\n",
            "Epoch: 6\n",
            "Epoch 6, result: {'val_loss': 3.129466668419216, 'accuracy': 0.5040760869565217}\n",
            "Epoch: 7\n",
            "Epoch 7, result: {'val_loss': 3.1422657862953516, 'accuracy': 0.5054347826086957}\n",
            "Epoch: 8\n",
            "Epoch 8, result: {'val_loss': 3.1332416845404585, 'accuracy': 0.5217391304347826}\n",
            "Epoch: 9\n",
            "Epoch 9, result: {'val_loss': 3.1508265681888745, 'accuracy': 0.5163043478260869}\n",
            "Evaluation of model trained on the 10% of dataset {'val_loss': 3.2022756207830803, 'accuracy': 0.46852003270645953}\n"
          ]
        }
      ]
    },
    {
      "cell_type": "code",
      "source": [
        "import gc\n",
        "# Delete variables\n",
        "del evaluate_student_ten, model_resnet_18_ten_student, X_train_ten_concatenated, Y_train_ten_concatenated\n",
        "del X_train_ten, X_unlabeled_ten, Y_train_ten, Y_unlabeled_ten, Y_unlabeled_ten_predictions, flattened_predictions\n",
        "del model_resnet_18_ten_teacher\n",
        "# Run garbage collection\n",
        "gc.collect()\n",
        "\n",
        "torch.cuda.empty_cache()"
      ],
      "metadata": {
        "id": "8chzdcAw4Co5"
      },
      "execution_count": 21,
      "outputs": []
    },
    {
      "cell_type": "code",
      "source": [
        "model_resnet_18_one_teacher = DogsCatsCnnModelResNet18()\n",
        "num_epochs = 10\n",
        "opt_func = torch.optim.Adam\n",
        "batch_size = 256\n",
        "lr = 0.001\n",
        "fit(model_resnet_18_one_teacher, num_epochs, lr, X_train_one, Y_train_one, X_val, Y_val, batch_size, opt_func)\n",
        "\n",
        "evaluate_teacher_one = evaluate(model_resnet_18_one_teacher, X_test, Y_test)\n",
        "print(\"Evaluation of model trained on the 1% of dataset\", evaluate_teacher_one)\n",
        "\n",
        "\n",
        "torch.cuda.empty_cache()\n",
        "# Create TensorDataset and DataLoader for training data\n",
        "dataset = TensorDataset(X_unlabeled_one, Y_unlabeled_one)\n",
        "data_loader = DataLoader(dataset, batch_size=batch_size, shuffle=False, num_workers=4) #, num_workers=4\n",
        "\n",
        "predictions = []\n",
        "with torch.no_grad():\n",
        "  for i, batch in enumerate(data_loader):\n",
        "        images, _ = batch\n",
        "        predictions.append(model_resnet_18_one_teacher.predict(images))\n",
        "#print(predictions)\n",
        "\n",
        "flattened_predictions = [prediction.flatten() for prediction in predictions]\n",
        "Y_unlabeled_one_predictions = torch.cat(flattened_predictions)\n",
        "print(len(Y_unlabeled_one_predictions))\n",
        "print(len(Y_unlabeled_one))\n",
        "\n",
        "Y_unlabeled_one = Y_unlabeled_one.to(device)\n",
        "#print(predictions_flat[1])\n",
        "#print(Y_unlabeled_half[1])\n",
        "acc = (Y_unlabeled_one_predictions == Y_unlabeled_one).sum().item() / len(Y_unlabeled_one)\n",
        "print(\"Accuracy: \", acc)\n",
        "# Concatenate the dataset with the pseudo labels so that we can train the student model in the entire dataset\n",
        "\n",
        "X_train_one_concatenated =  torch.cat((X_train_one, X_unlabeled_one), dim=0)\n",
        "Y_train_one_concatenated = torch.cat((Y_train_one.to(device), Y_unlabeled_one_predictions), dim=0)\n",
        "\n",
        "model_resnet_18_one_student = DogsCatsCnnModelResNet18()\n",
        "num_epochs = 10\n",
        "opt_func = torch.optim.Adam\n",
        "batch_size = 256\n",
        "lr = 0.001\n",
        "fit(model_resnet_18_one_student, num_epochs, lr, X_train_one_concatenated, Y_train_one_concatenated, X_val, Y_val, batch_size, opt_func)\n",
        "\n",
        "evaluate_student_one= evaluate(model_resnet_18_one_student, X_test, Y_test)\n",
        "print(\"Evaluation of model trained on the 1% of dataset\", evaluate_student_one)"
      ],
      "metadata": {
        "colab": {
          "base_uri": "https://localhost:8080/"
        },
        "id": "A5fXDiVF4jkU",
        "outputId": "1ef93b97-3ae4-416f-b461-df4ae747573c"
      },
      "execution_count": 22,
      "outputs": [
        {
          "output_type": "stream",
          "name": "stdout",
          "text": [
            "Epoch: 0\n",
            "Epoch 0, result: {'val_loss': 3.5408510747163193, 'accuracy': 0.09239130434782608}\n",
            "Epoch: 1\n",
            "Epoch 1, result: {'val_loss': 3.5033055906710415, 'accuracy': 0.13722826086956522}\n",
            "Epoch: 2\n",
            "Epoch 2, result: {'val_loss': 3.48703816662664, 'accuracy': 0.13994565217391305}\n",
            "Epoch: 3\n",
            "Epoch 3, result: {'val_loss': 3.4778496182483174, 'accuracy': 0.14402173913043478}\n",
            "Epoch: 4\n",
            "Epoch 4, result: {'val_loss': 3.4731814342996348, 'accuracy': 0.14673913043478262}\n",
            "Epoch: 5\n",
            "Epoch 5, result: {'val_loss': 3.4731379488240117, 'accuracy': 0.15081521739130435}\n",
            "Epoch: 6\n",
            "Epoch 6, result: {'val_loss': 3.4776234315789263, 'accuracy': 0.15081521739130435}\n",
            "Epoch: 7\n",
            "Epoch 7, result: {'val_loss': 3.4825170040130615, 'accuracy': 0.1480978260869565}\n",
            "Epoch: 8\n",
            "Epoch 8, result: {'val_loss': 3.488100881161897, 'accuracy': 0.14673913043478262}\n",
            "Epoch: 9\n",
            "Epoch 9, result: {'val_loss': 3.4937552472819453, 'accuracy': 0.14673913043478262}\n",
            "Evaluation of model trained on the 1% of dataset {'val_loss': 3.4994693408060478, 'accuracy': 0.14663396020714092}\n",
            "2915\n",
            "2915\n",
            "Accuracy:  0.09708404802744425\n",
            "Epoch: 0\n",
            "Epoch 0, result: {'val_loss': 3.5310638780179233, 'accuracy': 0.06114130434782609}\n",
            "Epoch: 1\n",
            "Epoch 1, result: {'val_loss': 3.5112245290175728, 'accuracy': 0.10054347826086957}\n",
            "Epoch: 2\n",
            "Epoch 2, result: {'val_loss': 3.5204845926036006, 'accuracy': 0.09103260869565218}\n",
            "Epoch: 3\n",
            "Epoch 3, result: {'val_loss': 3.5169891689134682, 'accuracy': 0.09510869565217392}\n",
            "Epoch: 4\n",
            "Epoch 4, result: {'val_loss': 3.5269854794377866, 'accuracy': 0.08423913043478261}\n",
            "Epoch: 5\n",
            "Epoch 5, result: {'val_loss': 3.5234763933264692, 'accuracy': 0.09646739130434782}\n",
            "Epoch: 6\n",
            "Epoch 6, result: {'val_loss': 3.5226630024288013, 'accuracy': 0.11141304347826086}\n",
            "Epoch: 7\n",
            "Epoch 7, result: {'val_loss': 3.4988908145738686, 'accuracy': 0.12771739130434784}\n",
            "Epoch: 8\n",
            "Epoch 8, result: {'val_loss': 3.507385388664577, 'accuracy': 0.11277173913043478}\n",
            "Epoch: 9\n",
            "Epoch 9, result: {'val_loss': 3.5173572561015254, 'accuracy': 0.11684782608695653}\n",
            "Evaluation of model trained on the 1% of dataset {'val_loss': 3.5356890498275946, 'accuracy': 0.10275279367675116}\n"
          ]
        }
      ]
    },
    {
      "cell_type": "code",
      "source": [
        "import gc\n",
        "# Delete variables\n",
        "del evaluate_student_one, model_resnet_18_one_student, X_train_one_concatenated, Y_train_one_concatenated\n",
        "del X_train_one, X_unlabeled_one, Y_train_one, Y_unlabeled_one, Y_unlabeled_one_predictions, flattened_predictions\n",
        "del model_resnet_18_one_teacher\n",
        "# Run garbage collection\n",
        "gc.collect()\n",
        "\n",
        "torch.cuda.empty_cache()"
      ],
      "metadata": {
        "id": "ApSS7elc6I0o"
      },
      "execution_count": 23,
      "outputs": []
    },
    {
      "cell_type": "markdown",
      "source": [
        "PLOTS\n"
      ],
      "metadata": {
        "id": "bNQ0iP3UedM7"
      }
    },
    {
      "cell_type": "code",
      "source": [
        "import numpy as np\n",
        "accuracies_teacher_50 = [0.6127717391304348, 0.626358695652174, 0.7703804347826086, 0.8029891304347826, 0.7934782608695652, 0.8152173913043478, 0.8288043478260869, 0.8464673913043478, 0.8179347826086957, 0.8220108695652174]\n",
        "\n",
        "accuracies_student_50 = [0.6766304347826086, 0.7676630434782609, 0.7975543478260869, 0.7880434782608695, 0.8247282608695652, 0.8125, 0.8165760869565217, 0.8043478260869565, 0.8206521739130435, 0.8125]\n",
        "\n",
        "accuracies_teacher_10 = [0.2595108695652174, 0.35190217391304346, 0.40353260869565216, 0.4673913043478261, 0.5, 0.5108695652173914, 0.5461956521739131, 0.5570652173913043, 0.5570652173913043, 0.5625]\n",
        "\n",
        "accuracies_student_10 = [0.3953804347826087, 0.4904891304347826, 0.5271739130434783, 0.5244565217391305, 0.5543478260869565, 0.5760869565217391, 0.5543478260869565, 0.5747282608695652, 0.5855978260869565, 0.592391304347826]\n",
        "\n",
        "accuracies_teacher_1 = [0.12364130434782608, 0.16576086956521738, 0.1793478260869565, 0.17798913043478262, 0.18342391304347827, 0.17119565217391305, 0.17255434782608695, 0.17119565217391305, 0.16847826086956522, 0.16983695652173914]\n",
        "\n",
        "accuracies_student_1 = [0.08831521739130435, 0.10597826086956522, 0.11820652173913043, 0.12364130434782608, 0.12771739130434784, 0.11820652173913043, 0.12907608695652173, 0.13722826086956522, 0.11684782608695653, 0.12228260869565218]\n",
        "\n",
        "epochs = np.arange(10)"
      ],
      "metadata": {
        "id": "kXiRYXSkeeIN"
      },
      "execution_count": 2,
      "outputs": []
    },
    {
      "cell_type": "code",
      "source": [
        "def plot_data(x, y1, y2, title):\n",
        "  plt.plot(x, y1, label='teacher')\n",
        "  plt.plot(x, y2, label='student')\n",
        "  # Adding title and labels\n",
        "  plt.title(title)\n",
        "  plt.xlabel('epochs')\n",
        "  plt.ylabel('Accuracy')\n",
        "  plt.legend()\n",
        "  plt.show()"
      ],
      "metadata": {
        "id": "oJdfKVVdfm-T"
      },
      "execution_count": 5,
      "outputs": []
    },
    {
      "cell_type": "code",
      "source": [
        "import matplotlib.pyplot as plt\n",
        "plot_data(epochs, accuracies_teacher_50, accuracies_student_50, 'Validation accuracy of teacher and student using 50% labeled data')\n",
        "plot_data(epochs, accuracies_teacher_10, accuracies_student_10, 'Validation accuracy of teacher and student using 10% labeled data')\n",
        "plot_data(epochs, accuracies_teacher_1, accuracies_student_1, 'Validation accuracy of teacher and student using 1% labeled data')\n"
      ],
      "metadata": {
        "colab": {
          "base_uri": "https://localhost:8080/",
          "height": 1000
        },
        "id": "igES2HJWfFKh",
        "outputId": "04472fe3-b17e-4454-b111-1b3394b59e2e"
      },
      "execution_count": 7,
      "outputs": [
        {
          "output_type": "display_data",
          "data": {
            "text/plain": [
              "<Figure size 640x480 with 1 Axes>"
            ],
            "image/png": "[encoded data removed]"
          },
          "metadata": {}
        },
        {
          "output_type": "display_data",
          "data": {
            "text/plain": [
              "<Figure size 640x480 with 1 Axes>"
            ],
            "image/png": "[encoded data removed]"
          },
          "metadata": {}
        },
        {
          "output_type": "display_data",
          "data": {
            "text/plain": [
              "<Figure size 640x480 with 1 Axes>"
            ],
            "image/png": "[encoded data removed]"
          },
          "metadata": {}
        }
      ]
    },
    {
      "cell_type": "code",
      "source": [],
      "metadata": {
        "id": "Sy1OEarugFs3"
      },
      "execution_count": null,
      "outputs": []
    }
  ],
  "metadata": {
    "accelerator": "GPU",
    "colab": {
      "gpuType": "T4",
      "provenance": []
    },
    "kernelspec": {
      "display_name": "Python 3",
      "name": "python3"
    },
    "language_info": {
      "name": "python"
    },
    "widgets": {
      "application/vnd.jupyter.widget-state+json": {
        "5342aede86a742f68878a17857b4e699": {
          "model_module": "@jupyter-widgets/controls",
          "model_name": "HBoxModel",
          "model_module_version": "1.5.0",
          "state": {
            "_dom_classes": [],
            "_model_module": "@jupyter-widgets/controls",
            "_model_module_version": "1.5.0",
            "_model_name": "HBoxModel",
            "_view_count": null,
            "_view_module": "@jupyter-widgets/controls",
            "_view_module_version": "1.5.0",
            "_view_name": "HBoxView",
            "box_style": "",
            "children": [
              "IPY_MODEL_9118a783a2ac49c0b00f2188b9ae9ee2",
              "IPY_MODEL_c3d62a2193544cbf91b7ace9721a1b3c",
              "IPY_MODEL_ed1b4f7296f646dcbd8ad3a13c4c030f"
            ],
            "layout": "IPY_MODEL_50a2ce1e752a48428308a93483ea1531"
          }
        },
        "9118a783a2ac49c0b00f2188b9ae9ee2": {
          "model_module": "@jupyter-widgets/controls",
          "model_name": "HTMLModel",
          "model_module_version": "1.5.0",
          "state": {
            "_dom_classes": [],
            "_model_module": "@jupyter-widgets/controls",
            "_model_module_version": "1.5.0",
            "_model_name": "HTMLModel",
            "_view_count": null,
            "_view_module": "@jupyter-widgets/controls",
            "_view_module_version": "1.5.0",
            "_view_name": "HTMLView",
            "description": "",
            "description_tooltip": null,
            "layout": "IPY_MODEL_3590858593324718ac55ecca5b3c8ced",
            "placeholder": "​",
            "style": "IPY_MODEL_55c5b9f7ff384ef0a836651ee3a883a2",
            "value": "config.json: 100%"
          }
        },
        "c3d62a2193544cbf91b7ace9721a1b3c": {
          "model_module": "@jupyter-widgets/controls",
          "model_name": "FloatProgressModel",
          "model_module_version": "1.5.0",
          "state": {
            "_dom_classes": [],
            "_model_module": "@jupyter-widgets/controls",
            "_model_module_version": "1.5.0",
            "_model_name": "FloatProgressModel",
            "_view_count": null,
            "_view_module": "@jupyter-widgets/controls",
            "_view_module_version": "1.5.0",
            "_view_name": "ProgressView",
            "bar_style": "success",
            "description": "",
            "description_tooltip": null,
            "layout": "IPY_MODEL_7817dff204f94bf28a74b43e97910630",
            "max": 502,
            "min": 0,
            "orientation": "horizontal",
            "style": "IPY_MODEL_0a59ea3583904874b143384544df2c16",
            "value": 502
          }
        },
        "ed1b4f7296f646dcbd8ad3a13c4c030f": {
          "model_module": "@jupyter-widgets/controls",
          "model_name": "HTMLModel",
          "model_module_version": "1.5.0",
          "state": {
            "_dom_classes": [],
            "_model_module": "@jupyter-widgets/controls",
            "_model_module_version": "1.5.0",
            "_model_name": "HTMLModel",
            "_view_count": null,
            "_view_module": "@jupyter-widgets/controls",
            "_view_module_version": "1.5.0",
            "_view_name": "HTMLView",
            "description": "",
            "description_tooltip": null,
            "layout": "IPY_MODEL_a7f49ed97f92462eae53cb8862894e9f",
            "placeholder": "​",
            "style": "IPY_MODEL_95812d1051fa4e41ba4b6dcb22d6c35e",
            "value": " 502/502 [00:00&lt;00:00, 28.4kB/s]"
          }
        },
        "50a2ce1e752a48428308a93483ea1531": {
          "model_module": "@jupyter-widgets/base",
          "model_name": "LayoutModel",
          "model_module_version": "1.2.0",
          "state": {
            "_model_module": "@jupyter-widgets/base",
            "_model_module_version": "1.2.0",
            "_model_name": "LayoutModel",
            "_view_count": null,
            "_view_module": "@jupyter-widgets/base",
            "_view_module_version": "1.2.0",
            "_view_name": "LayoutView",
            "align_content": null,
            "align_items": null,
            "align_self": null,
            "border": null,
            "bottom": null,
            "display": null,
            "flex": null,
            "flex_flow": null,
            "grid_area": null,
            "grid_auto_columns": null,
            "grid_auto_flow": null,
            "grid_auto_rows": null,
            "grid_column": null,
            "grid_gap": null,
            "grid_row": null,
            "grid_template_areas": null,
            "grid_template_columns": null,
            "grid_template_rows": null,
            "height": null,
            "justify_content": null,
            "justify_items": null,
            "left": null,
            "margin": null,
            "max_height": null,
            "max_width": null,
            "min_height": null,
            "min_width": null,
            "object_fit": null,
            "object_position": null,
            "order": null,
            "overflow": null,
            "overflow_x": null,
            "overflow_y": null,
            "padding": null,
            "right": null,
            "top": null,
            "visibility": null,
            "width": null
          }
        },
        "3590858593324718ac55ecca5b3c8ced": {
          "model_module": "@jupyter-widgets/base",
          "model_name": "LayoutModel",
          "model_module_version": "1.2.0",
          "state": {
            "_model_module": "@jupyter-widgets/base",
            "_model_module_version": "1.2.0",
            "_model_name": "LayoutModel",
            "_view_count": null,
            "_view_module": "@jupyter-widgets/base",
            "_view_module_version": "1.2.0",
            "_view_name": "LayoutView",
            "align_content": null,
            "align_items": null,
            "align_self": null,
            "border": null,
            "bottom": null,
            "display": null,
            "flex": null,
            "flex_flow": null,
            "grid_area": null,
            "grid_auto_columns": null,
            "grid_auto_flow": null,
            "grid_auto_rows": null,
            "grid_column": null,
            "grid_gap": null,
            "grid_row": null,
            "grid_template_areas": null,
            "grid_template_columns": null,
            "grid_template_rows": null,
            "height": null,
            "justify_content": null,
            "justify_items": null,
            "left": null,
            "margin": null,
            "max_height": null,
            "max_width": null,
            "min_height": null,
            "min_width": null,
            "object_fit": null,
            "object_position": null,
            "order": null,
            "overflow": null,
            "overflow_x": null,
            "overflow_y": null,
            "padding": null,
            "right": null,
            "top": null,
            "visibility": null,
            "width": null
          }
        },
        "55c5b9f7ff384ef0a836651ee3a883a2": {
          "model_module": "@jupyter-widgets/controls",
          "model_name": "DescriptionStyleModel",
          "model_module_version": "1.5.0",
          "state": {
            "_model_module": "@jupyter-widgets/controls",
            "_model_module_version": "1.5.0",
            "_model_name": "DescriptionStyleModel",
            "_view_count": null,
            "_view_module": "@jupyter-widgets/base",
            "_view_module_version": "1.2.0",
            "_view_name": "StyleView",
            "description_width": ""
          }
        },
        "7817dff204f94bf28a74b43e97910630": {
          "model_module": "@jupyter-widgets/base",
          "model_name": "LayoutModel",
          "model_module_version": "1.2.0",
          "state": {
            "_model_module": "@jupyter-widgets/base",
            "_model_module_version": "1.2.0",
            "_model_name": "LayoutModel",
            "_view_count": null,
            "_view_module": "@jupyter-widgets/base",
            "_view_module_version": "1.2.0",
            "_view_name": "LayoutView",
            "align_content": null,
            "align_items": null,
            "align_self": null,
            "border": null,
            "bottom": null,
            "display": null,
            "flex": null,
            "flex_flow": null,
            "grid_area": null,
            "grid_auto_columns": null,
            "grid_auto_flow": null,
            "grid_auto_rows": null,
            "grid_column": null,
            "grid_gap": null,
            "grid_row": null,
            "grid_template_areas": null,
            "grid_template_columns": null,
            "grid_template_rows": null,
            "height": null,
            "justify_content": null,
            "justify_items": null,
            "left": null,
            "margin": null,
            "max_height": null,
            "max_width": null,
            "min_height": null,
            "min_width": null,
            "object_fit": null,
            "object_position": null,
            "order": null,
            "overflow": null,
            "overflow_x": null,
            "overflow_y": null,
            "padding": null,
            "right": null,
            "top": null,
            "visibility": null,
            "width": null
          }
        },
        "0a59ea3583904874b143384544df2c16": {
          "model_module": "@jupyter-widgets/controls",
          "model_name": "ProgressStyleModel",
          "model_module_version": "1.5.0",
          "state": {
            "_model_module": "@jupyter-widgets/controls",
            "_model_module_version": "1.5.0",
            "_model_name": "ProgressStyleModel",
            "_view_count": null,
            "_view_module": "@jupyter-widgets/base",
            "_view_module_version": "1.2.0",
            "_view_name": "StyleView",
            "bar_color": null,
            "description_width": ""
          }
        },
        "a7f49ed97f92462eae53cb8862894e9f": {
          "model_module": "@jupyter-widgets/base",
          "model_name": "LayoutModel",
          "model_module_version": "1.2.0",
          "state": {
            "_model_module": "@jupyter-widgets/base",
            "_model_module_version": "1.2.0",
            "_model_name": "LayoutModel",
            "_view_count": null,
            "_view_module": "@jupyter-widgets/base",
            "_view_module_version": "1.2.0",
            "_view_name": "LayoutView",
            "align_content": null,
            "align_items": null,
            "align_self": null,
            "border": null,
            "bottom": null,
            "display": null,
            "flex": null,
            "flex_flow": null,
            "grid_area": null,
            "grid_auto_columns": null,
            "grid_auto_flow": null,
            "grid_auto_rows": null,
            "grid_column": null,
            "grid_gap": null,
            "grid_row": null,
            "grid_template_areas": null,
            "grid_template_columns": null,
            "grid_template_rows": null,
            "height": null,
            "justify_content": null,
            "justify_items": null,
            "left": null,
            "margin": null,
            "max_height": null,
            "max_width": null,
            "min_height": null,
            "min_width": null,
            "object_fit": null,
            "object_position": null,
            "order": null,
            "overflow": null,
            "overflow_x": null,
            "overflow_y": null,
            "padding": null,
            "right": null,
            "top": null,
            "visibility": null,
            "width": null
          }
        },
        "95812d1051fa4e41ba4b6dcb22d6c35e": {
          "model_module": "@jupyter-widgets/controls",
          "model_name": "DescriptionStyleModel",
          "model_module_version": "1.5.0",
          "state": {
            "_model_module": "@jupyter-widgets/controls",
            "_model_module_version": "1.5.0",
            "_model_name": "DescriptionStyleModel",
            "_view_count": null,
            "_view_module": "@jupyter-widgets/base",
            "_view_module_version": "1.2.0",
            "_view_name": "StyleView",
            "description_width": ""
          }
        },
        "59e7ef831ba2403e99c6897145d6c88a": {
          "model_module": "@jupyter-widgets/controls",
          "model_name": "HBoxModel",
          "model_module_version": "1.5.0",
          "state": {
            "_dom_classes": [],
            "_model_module": "@jupyter-widgets/controls",
            "_model_module_version": "1.5.0",
            "_model_name": "HBoxModel",
            "_view_count": null,
            "_view_module": "@jupyter-widgets/controls",
            "_view_module_version": "1.5.0",
            "_view_name": "HBoxView",
            "box_style": "",
            "children": [
              "IPY_MODEL_96ba27a521104ca7872b936f81a71cb7",
              "IPY_MODEL_8ee928425b03403ea5606d99fd786bf5",
              "IPY_MODEL_4e25a5b5540146a9bf41dd5fbe093c72"
            ],
            "layout": "IPY_MODEL_0efd0792876d4326b120c96bb88876d9"
          }
        },
        "96ba27a521104ca7872b936f81a71cb7": {
          "model_module": "@jupyter-widgets/controls",
          "model_name": "HTMLModel",
          "model_module_version": "1.5.0",
          "state": {
            "_dom_classes": [],
            "_model_module": "@jupyter-widgets/controls",
            "_model_module_version": "1.5.0",
            "_model_name": "HTMLModel",
            "_view_count": null,
            "_view_module": "@jupyter-widgets/controls",
            "_view_module_version": "1.5.0",
            "_view_name": "HTMLView",
            "description": "",
            "description_tooltip": null,
            "layout": "IPY_MODEL_38b9515980a04b58b15e9247ef6dec0f",
            "placeholder": "​",
            "style": "IPY_MODEL_1e6fa8e6f1894694a523a668d3bf2c9b",
            "value": "model.safetensors: 100%"
          }
        },
        "8ee928425b03403ea5606d99fd786bf5": {
          "model_module": "@jupyter-widgets/controls",
          "model_name": "FloatProgressModel",
          "model_module_version": "1.5.0",
          "state": {
            "_dom_classes": [],
            "_model_module": "@jupyter-widgets/controls",
            "_model_module_version": "1.5.0",
            "_model_name": "FloatProgressModel",
            "_view_count": null,
            "_view_module": "@jupyter-widgets/controls",
            "_view_module_version": "1.5.0",
            "_view_name": "ProgressView",
            "bar_style": "success",
            "description": "",
            "description_tooltip": null,
            "layout": "IPY_MODEL_d262e26737ef46d7935760d7f1c38aa8",
            "max": 345579424,
            "min": 0,
            "orientation": "horizontal",
            "style": "IPY_MODEL_be86ea2062844f49909dc6d11892e0b3",
            "value": 345579424
          }
        },
        "4e25a5b5540146a9bf41dd5fbe093c72": {
          "model_module": "@jupyter-widgets/controls",
          "model_name": "HTMLModel",
          "model_module_version": "1.5.0",
          "state": {
            "_dom_classes": [],
            "_model_module": "@jupyter-widgets/controls",
            "_model_module_version": "1.5.0",
            "_model_name": "HTMLModel",
            "_view_count": null,
            "_view_module": "@jupyter-widgets/controls",
            "_view_module_version": "1.5.0",
            "_view_name": "HTMLView",
            "description": "",
            "description_tooltip": null,
            "layout": "IPY_MODEL_e13605ff6ded4c0f926a21486caca060",
            "placeholder": "​",
            "style": "IPY_MODEL_0122e7e5e1aa428ea53ad09c429d2b29",
            "value": " 346M/346M [00:07&lt;00:00, 39.3MB/s]"
          }
        },
        "0efd0792876d4326b120c96bb88876d9": {
          "model_module": "@jupyter-widgets/base",
          "model_name": "LayoutModel",
          "model_module_version": "1.2.0",
          "state": {
            "_model_module": "@jupyter-widgets/base",
            "_model_module_version": "1.2.0",
            "_model_name": "LayoutModel",
            "_view_count": null,
            "_view_module": "@jupyter-widgets/base",
            "_view_module_version": "1.2.0",
            "_view_name": "LayoutView",
            "align_content": null,
            "align_items": null,
            "align_self": null,
            "border": null,
            "bottom": null,
            "display": null,
            "flex": null,
            "flex_flow": null,
            "grid_area": null,
            "grid_auto_columns": null,
            "grid_auto_flow": null,
            "grid_auto_rows": null,
            "grid_column": null,
            "grid_gap": null,
            "grid_row": null,
            "grid_template_areas": null,
            "grid_template_columns": null,
            "grid_template_rows": null,
            "height": null,
            "justify_content": null,
            "justify_items": null,
            "left": null,
            "margin": null,
            "max_height": null,
            "max_width": null,
            "min_height": null,
            "min_width": null,
            "object_fit": null,
            "object_position": null,
            "order": null,
            "overflow": null,
            "overflow_x": null,
            "overflow_y": null,
            "padding": null,
            "right": null,
            "top": null,
            "visibility": null,
            "width": null
          }
        },
        "38b9515980a04b58b15e9247ef6dec0f": {
          "model_module": "@jupyter-widgets/base",
          "model_name": "LayoutModel",
          "model_module_version": "1.2.0",
          "state": {
            "_model_module": "@jupyter-widgets/base",
            "_model_module_version": "1.2.0",
            "_model_name": "LayoutModel",
            "_view_count": null,
            "_view_module": "@jupyter-widgets/base",
            "_view_module_version": "1.2.0",
            "_view_name": "LayoutView",
            "align_content": null,
            "align_items": null,
            "align_self": null,
            "border": null,
            "bottom": null,
            "display": null,
            "flex": null,
            "flex_flow": null,
            "grid_area": null,
            "grid_auto_columns": null,
            "grid_auto_flow": null,
            "grid_auto_rows": null,
            "grid_column": null,
            "grid_gap": null,
            "grid_row": null,
            "grid_template_areas": null,
            "grid_template_columns": null,
            "grid_template_rows": null,
            "height": null,
            "justify_content": null,
            "justify_items": null,
            "left": null,
            "margin": null,
            "max_height": null,
            "max_width": null,
            "min_height": null,
            "min_width": null,
            "object_fit": null,
            "object_position": null,
            "order": null,
            "overflow": null,
            "overflow_x": null,
            "overflow_y": null,
            "padding": null,
            "right": null,
            "top": null,
            "visibility": null,
            "width": null
          }
        },
        "1e6fa8e6f1894694a523a668d3bf2c9b": {
          "model_module": "@jupyter-widgets/controls",
          "model_name": "DescriptionStyleModel",
          "model_module_version": "1.5.0",
          "state": {
            "_model_module": "@jupyter-widgets/controls",
            "_model_module_version": "1.5.0",
            "_model_name": "DescriptionStyleModel",
            "_view_count": null,
            "_view_module": "@jupyter-widgets/base",
            "_view_module_version": "1.2.0",
            "_view_name": "StyleView",
            "description_width": ""
          }
        },
        "d262e26737ef46d7935760d7f1c38aa8": {
          "model_module": "@jupyter-widgets/base",
          "model_name": "LayoutModel",
          "model_module_version": "1.2.0",
          "state": {
            "_model_module": "@jupyter-widgets/base",
            "_model_module_version": "1.2.0",
            "_model_name": "LayoutModel",
            "_view_count": null,
            "_view_module": "@jupyter-widgets/base",
            "_view_module_version": "1.2.0",
            "_view_name": "LayoutView",
            "align_content": null,
            "align_items": null,
            "align_self": null,
            "border": null,
            "bottom": null,
            "display": null,
            "flex": null,
            "flex_flow": null,
            "grid_area": null,
            "grid_auto_columns": null,
            "grid_auto_flow": null,
            "grid_auto_rows": null,
            "grid_column": null,
            "grid_gap": null,
            "grid_row": null,
            "grid_template_areas": null,
            "grid_template_columns": null,
            "grid_template_rows": null,
            "height": null,
            "justify_content": null,
            "justify_items": null,
            "left": null,
            "margin": null,
            "max_height": null,
            "max_width": null,
            "min_height": null,
            "min_width": null,
            "object_fit": null,
            "object_position": null,
            "order": null,
            "overflow": null,
            "overflow_x": null,
            "overflow_y": null,
            "padding": null,
            "right": null,
            "top": null,
            "visibility": null,
            "width": null
          }
        },
        "be86ea2062844f49909dc6d11892e0b3": {
          "model_module": "@jupyter-widgets/controls",
          "model_name": "ProgressStyleModel",
          "model_module_version": "1.5.0",
          "state": {
            "_model_module": "@jupyter-widgets/controls",
            "_model_module_version": "1.5.0",
            "_model_name": "ProgressStyleModel",
            "_view_count": null,
            "_view_module": "@jupyter-widgets/base",
            "_view_module_version": "1.2.0",
            "_view_name": "StyleView",
            "bar_color": null,
            "description_width": ""
          }
        },
        "e13605ff6ded4c0f926a21486caca060": {
          "model_module": "@jupyter-widgets/base",
          "model_name": "LayoutModel",
          "model_module_version": "1.2.0",
          "state": {
            "_model_module": "@jupyter-widgets/base",
            "_model_module_version": "1.2.0",
            "_model_name": "LayoutModel",
            "_view_count": null,
            "_view_module": "@jupyter-widgets/base",
            "_view_module_version": "1.2.0",
            "_view_name": "LayoutView",
            "align_content": null,
            "align_items": null,
            "align_self": null,
            "border": null,
            "bottom": null,
            "display": null,
            "flex": null,
            "flex_flow": null,
            "grid_area": null,
            "grid_auto_columns": null,
            "grid_auto_flow": null,
            "grid_auto_rows": null,
            "grid_column": null,
            "grid_gap": null,
            "grid_row": null,
            "grid_template_areas": null,
            "grid_template_columns": null,
            "grid_template_rows": null,
            "height": null,
            "justify_content": null,
            "justify_items": null,
            "left": null,
            "margin": null,
            "max_height": null,
            "max_width": null,
            "min_height": null,
            "min_width": null,
            "object_fit": null,
            "object_position": null,
            "order": null,
            "overflow": null,
            "overflow_x": null,
            "overflow_y": null,
            "padding": null,
            "right": null,
            "top": null,
            "visibility": null,
            "width": null
          }
        },
        "0122e7e5e1aa428ea53ad09c429d2b29": {
          "model_module": "@jupyter-widgets/controls",
          "model_name": "DescriptionStyleModel",
          "model_module_version": "1.5.0",
          "state": {
            "_model_module": "@jupyter-widgets/controls",
            "_model_module_version": "1.5.0",
            "_model_name": "DescriptionStyleModel",
            "_view_count": null,
            "_view_module": "@jupyter-widgets/base",
            "_view_module_version": "1.2.0",
            "_view_name": "StyleView",
            "description_width": ""
          }
        },
        "47799645958a4fe58ca9aa50242fe443": {
          "model_module": "@jupyter-widgets/controls",
          "model_name": "HBoxModel",
          "model_module_version": "1.5.0",
          "state": {
            "_dom_classes": [],
            "_model_module": "@jupyter-widgets/controls",
            "_model_module_version": "1.5.0",
            "_model_name": "HBoxModel",
            "_view_count": null,
            "_view_module": "@jupyter-widgets/controls",
            "_view_module_version": "1.5.0",
            "_view_name": "HBoxView",
            "box_style": "",
            "children": [
              "IPY_MODEL_dd2028cd72cb4a4e8dc429b451edcddf",
              "IPY_MODEL_70711155e30d456d940052ed2379a77d",
              "IPY_MODEL_0505721137c04627a954c07a8fe1e673"
            ],
            "layout": "IPY_MODEL_5abf889851cb4f5790f4e7a0327dcae2"
          }
        },
        "dd2028cd72cb4a4e8dc429b451edcddf": {
          "model_module": "@jupyter-widgets/controls",
          "model_name": "HTMLModel",
          "model_module_version": "1.5.0",
          "state": {
            "_dom_classes": [],
            "_model_module": "@jupyter-widgets/controls",
            "_model_module_version": "1.5.0",
            "_model_name": "HTMLModel",
            "_view_count": null,
            "_view_module": "@jupyter-widgets/controls",
            "_view_module_version": "1.5.0",
            "_view_name": "HTMLView",
            "description": "",
            "description_tooltip": null,
            "layout": "IPY_MODEL_50597f82bb484d02b4cf1d8c2078835a",
            "placeholder": "​",
            "style": "IPY_MODEL_cf83e0f7e7484a4e8ce44ecced770389",
            "value": "preprocessor_config.json: 100%"
          }
        },
        "70711155e30d456d940052ed2379a77d": {
          "model_module": "@jupyter-widgets/controls",
          "model_name": "FloatProgressModel",
          "model_module_version": "1.5.0",
          "state": {
            "_dom_classes": [],
            "_model_module": "@jupyter-widgets/controls",
            "_model_module_version": "1.5.0",
            "_model_name": "FloatProgressModel",
            "_view_count": null,
            "_view_module": "@jupyter-widgets/controls",
            "_view_module_version": "1.5.0",
            "_view_name": "ProgressView",
            "bar_style": "success",
            "description": "",
            "description_tooltip": null,
            "layout": "IPY_MODEL_e0e8bb6148834194bcc6305cfb169be6",
            "max": 160,
            "min": 0,
            "orientation": "horizontal",
            "style": "IPY_MODEL_580d053472ce4d818c06bb4b333274d6",
            "value": 160
          }
        },
        "0505721137c04627a954c07a8fe1e673": {
          "model_module": "@jupyter-widgets/controls",
          "model_name": "HTMLModel",
          "model_module_version": "1.5.0",
          "state": {
            "_dom_classes": [],
            "_model_module": "@jupyter-widgets/controls",
            "_model_module_version": "1.5.0",
            "_model_name": "HTMLModel",
            "_view_count": null,
            "_view_module": "@jupyter-widgets/controls",
            "_view_module_version": "1.5.0",
            "_view_name": "HTMLView",
            "description": "",
            "description_tooltip": null,
            "layout": "IPY_MODEL_675f3a7f73ef4304aab019cdd52c3c34",
            "placeholder": "​",
            "style": "IPY_MODEL_36e72df899754a0d988bb34a82ac6c16",
            "value": " 160/160 [00:00&lt;00:00, 3.73kB/s]"
          }
        },
        "5abf889851cb4f5790f4e7a0327dcae2": {
          "model_module": "@jupyter-widgets/base",
          "model_name": "LayoutModel",
          "model_module_version": "1.2.0",
          "state": {
            "_model_module": "@jupyter-widgets/base",
            "_model_module_version": "1.2.0",
            "_model_name": "LayoutModel",
            "_view_count": null,
            "_view_module": "@jupyter-widgets/base",
            "_view_module_version": "1.2.0",
            "_view_name": "LayoutView",
            "align_content": null,
            "align_items": null,
            "align_self": null,
            "border": null,
            "bottom": null,
            "display": null,
            "flex": null,
            "flex_flow": null,
            "grid_area": null,
            "grid_auto_columns": null,
            "grid_auto_flow": null,
            "grid_auto_rows": null,
            "grid_column": null,
            "grid_gap": null,
            "grid_row": null,
            "grid_template_areas": null,
            "grid_template_columns": null,
            "grid_template_rows": null,
            "height": null,
            "justify_content": null,
            "justify_items": null,
            "left": null,
            "margin": null,
            "max_height": null,
            "max_width": null,
            "min_height": null,
            "min_width": null,
            "object_fit": null,
            "object_position": null,
            "order": null,
            "overflow": null,
            "overflow_x": null,
            "overflow_y": null,
            "padding": null,
            "right": null,
            "top": null,
            "visibility": null,
            "width": null
          }
        },
        "50597f82bb484d02b4cf1d8c2078835a": {
          "model_module": "@jupyter-widgets/base",
          "model_name": "LayoutModel",
          "model_module_version": "1.2.0",
          "state": {
            "_model_module": "@jupyter-widgets/base",
            "_model_module_version": "1.2.0",
            "_model_name": "LayoutModel",
            "_view_count": null,
            "_view_module": "@jupyter-widgets/base",
            "_view_module_version": "1.2.0",
            "_view_name": "LayoutView",
            "align_content": null,
            "align_items": null,
            "align_self": null,
            "border": null,
            "bottom": null,
            "display": null,
            "flex": null,
            "flex_flow": null,
            "grid_area": null,
            "grid_auto_columns": null,
            "grid_auto_flow": null,
            "grid_auto_rows": null,
            "grid_column": null,
            "grid_gap": null,
            "grid_row": null,
            "grid_template_areas": null,
            "grid_template_columns": null,
            "grid_template_rows": null,
            "height": null,
            "justify_content": null,
            "justify_items": null,
            "left": null,
            "margin": null,
            "max_height": null,
            "max_width": null,
            "min_height": null,
            "min_width": null,
            "object_fit": null,
            "object_position": null,
            "order": null,
            "overflow": null,
            "overflow_x": null,
            "overflow_y": null,
            "padding": null,
            "right": null,
            "top": null,
            "visibility": null,
            "width": null
          }
        },
        "cf83e0f7e7484a4e8ce44ecced770389": {
          "model_module": "@jupyter-widgets/controls",
          "model_name": "DescriptionStyleModel",
          "model_module_version": "1.5.0",
          "state": {
            "_model_module": "@jupyter-widgets/controls",
            "_model_module_version": "1.5.0",
            "_model_name": "DescriptionStyleModel",
            "_view_count": null,
            "_view_module": "@jupyter-widgets/base",
            "_view_module_version": "1.2.0",
            "_view_name": "StyleView",
            "description_width": ""
          }
        },
        "e0e8bb6148834194bcc6305cfb169be6": {
          "model_module": "@jupyter-widgets/base",
          "model_name": "LayoutModel",
          "model_module_version": "1.2.0",
          "state": {
            "_model_module": "@jupyter-widgets/base",
            "_model_module_version": "1.2.0",
            "_model_name": "LayoutModel",
            "_view_count": null,
            "_view_module": "@jupyter-widgets/base",
            "_view_module_version": "1.2.0",
            "_view_name": "LayoutView",
            "align_content": null,
            "align_items": null,
            "align_self": null,
            "border": null,
            "bottom": null,
            "display": null,
            "flex": null,
            "flex_flow": null,
            "grid_area": null,
            "grid_auto_columns": null,
            "grid_auto_flow": null,
            "grid_auto_rows": null,
            "grid_column": null,
            "grid_gap": null,
            "grid_row": null,
            "grid_template_areas": null,
            "grid_template_columns": null,
            "grid_template_rows": null,
            "height": null,
            "justify_content": null,
            "justify_items": null,
            "left": null,
            "margin": null,
            "max_height": null,
            "max_width": null,
            "min_height": null,
            "min_width": null,
            "object_fit": null,
            "object_position": null,
            "order": null,
            "overflow": null,
            "overflow_x": null,
            "overflow_y": null,
            "padding": null,
            "right": null,
            "top": null,
            "visibility": null,
            "width": null
          }
        },
        "580d053472ce4d818c06bb4b333274d6": {
          "model_module": "@jupyter-widgets/controls",
          "model_name": "ProgressStyleModel",
          "model_module_version": "1.5.0",
          "state": {
            "_model_module": "@jupyter-widgets/controls",
            "_model_module_version": "1.5.0",
            "_model_name": "ProgressStyleModel",
            "_view_count": null,
            "_view_module": "@jupyter-widgets/base",
            "_view_module_version": "1.2.0",
            "_view_name": "StyleView",
            "bar_color": null,
            "description_width": ""
          }
        },
        "675f3a7f73ef4304aab019cdd52c3c34": {
          "model_module": "@jupyter-widgets/base",
          "model_name": "LayoutModel",
          "model_module_version": "1.2.0",
          "state": {
            "_model_module": "@jupyter-widgets/base",
            "_model_module_version": "1.2.0",
            "_model_name": "LayoutModel",
            "_view_count": null,
            "_view_module": "@jupyter-widgets/base",
            "_view_module_version": "1.2.0",
            "_view_name": "LayoutView",
            "align_content": null,
            "align_items": null,
            "align_self": null,
            "border": null,
            "bottom": null,
            "display": null,
            "flex": null,
            "flex_flow": null,
            "grid_area": null,
            "grid_auto_columns": null,
            "grid_auto_flow": null,
            "grid_auto_rows": null,
            "grid_column": null,
            "grid_gap": null,
            "grid_row": null,
            "grid_template_areas": null,
            "grid_template_columns": null,
            "grid_template_rows": null,
            "height": null,
            "justify_content": null,
            "justify_items": null,
            "left": null,
            "margin": null,
            "max_height": null,
            "max_width": null,
            "min_height": null,
            "min_width": null,
            "object_fit": null,
            "object_position": null,
            "order": null,
            "overflow": null,
            "overflow_x": null,
            "overflow_y": null,
            "padding": null,
            "right": null,
            "top": null,
            "visibility": null,
            "width": null
          }
        },
        "36e72df899754a0d988bb34a82ac6c16": {
          "model_module": "@jupyter-widgets/controls",
          "model_name": "DescriptionStyleModel",
          "model_module_version": "1.5.0",
          "state": {
            "_model_module": "@jupyter-widgets/controls",
            "_model_module_version": "1.5.0",
            "_model_name": "DescriptionStyleModel",
            "_view_count": null,
            "_view_module": "@jupyter-widgets/base",
            "_view_module_version": "1.2.0",
            "_view_name": "StyleView",
            "description_width": ""
          }
        },
        "94a355f0ebab4e3ca3608c1a6a2bcb11": {
          "model_module": "@jupyter-widgets/controls",
          "model_name": "HBoxModel",
          "model_module_version": "1.5.0",
          "state": {
            "_dom_classes": [],
            "_model_module": "@jupyter-widgets/controls",
            "_model_module_version": "1.5.0",
            "_model_name": "HBoxModel",
            "_view_count": null,
            "_view_module": "@jupyter-widgets/controls",
            "_view_module_version": "1.5.0",
            "_view_name": "HBoxView",
            "box_style": "",
            "children": [
              "IPY_MODEL_a6f4b560f48b4b9da87d0dfa7e0877df",
              "IPY_MODEL_eb33da44f3a3450da2cd2a460a97704d",
              "IPY_MODEL_9f46e8c334eb46deba0c62553a43a074"
            ],
            "layout": "IPY_MODEL_5495eeb0fdbc468fa9ffde5fe9997322"
          }
        },
        "a6f4b560f48b4b9da87d0dfa7e0877df": {
          "model_module": "@jupyter-widgets/controls",
          "model_name": "HTMLModel",
          "model_module_version": "1.5.0",
          "state": {
            "_dom_classes": [],
            "_model_module": "@jupyter-widgets/controls",
            "_model_module_version": "1.5.0",
            "_model_name": "HTMLModel",
            "_view_count": null,
            "_view_module": "@jupyter-widgets/controls",
            "_view_module_version": "1.5.0",
            "_view_name": "HTMLView",
            "description": "",
            "description_tooltip": null,
            "layout": "IPY_MODEL_4a2afd64b30b413380184cd20e210528",
            "placeholder": "​",
            "style": "IPY_MODEL_cf19be5526a64fd3a497bf61746a4206",
            "value": "Downloading builder script: "
          }
        },
        "eb33da44f3a3450da2cd2a460a97704d": {
          "model_module": "@jupyter-widgets/controls",
          "model_name": "FloatProgressModel",
          "model_module_version": "1.5.0",
          "state": {
            "_dom_classes": [],
            "_model_module": "@jupyter-widgets/controls",
            "_model_module_version": "1.5.0",
            "_model_name": "FloatProgressModel",
            "_view_count": null,
            "_view_module": "@jupyter-widgets/controls",
            "_view_module_version": "1.5.0",
            "_view_name": "ProgressView",
            "bar_style": "success",
            "description": "",
            "description_tooltip": null,
            "layout": "IPY_MODEL_8187de8393f04885bca45aab7a53af2b",
            "max": 1652,
            "min": 0,
            "orientation": "horizontal",
            "style": "IPY_MODEL_e5f24b8d62b74790b071014a7080abe7",
            "value": 1652
          }
        },
        "9f46e8c334eb46deba0c62553a43a074": {
          "model_module": "@jupyter-widgets/controls",
          "model_name": "HTMLModel",
          "model_module_version": "1.5.0",
          "state": {
            "_dom_classes": [],
            "_model_module": "@jupyter-widgets/controls",
            "_model_module_version": "1.5.0",
            "_model_name": "HTMLModel",
            "_view_count": null,
            "_view_module": "@jupyter-widgets/controls",
            "_view_module_version": "1.5.0",
            "_view_name": "HTMLView",
            "description": "",
            "description_tooltip": null,
            "layout": "IPY_MODEL_e02c6804f4bd4c16a73b6a64a7641704",
            "placeholder": "​",
            "style": "IPY_MODEL_646a6b93342242379184c84ff9806036",
            "value": " 4.21k/? [00:00&lt;00:00, 203kB/s]"
          }
        },
        "5495eeb0fdbc468fa9ffde5fe9997322": {
          "model_module": "@jupyter-widgets/base",
          "model_name": "LayoutModel",
          "model_module_version": "1.2.0",
          "state": {
            "_model_module": "@jupyter-widgets/base",
            "_model_module_version": "1.2.0",
            "_model_name": "LayoutModel",
            "_view_count": null,
            "_view_module": "@jupyter-widgets/base",
            "_view_module_version": "1.2.0",
            "_view_name": "LayoutView",
            "align_content": null,
            "align_items": null,
            "align_self": null,
            "border": null,
            "bottom": null,
            "display": null,
            "flex": null,
            "flex_flow": null,
            "grid_area": null,
            "grid_auto_columns": null,
            "grid_auto_flow": null,
            "grid_auto_rows": null,
            "grid_column": null,
            "grid_gap": null,
            "grid_row": null,
            "grid_template_areas": null,
            "grid_template_columns": null,
            "grid_template_rows": null,
            "height": null,
            "justify_content": null,
            "justify_items": null,
            "left": null,
            "margin": null,
            "max_height": null,
            "max_width": null,
            "min_height": null,
            "min_width": null,
            "object_fit": null,
            "object_position": null,
            "order": null,
            "overflow": null,
            "overflow_x": null,
            "overflow_y": null,
            "padding": null,
            "right": null,
            "top": null,
            "visibility": null,
            "width": null
          }
        },
        "4a2afd64b30b413380184cd20e210528": {
          "model_module": "@jupyter-widgets/base",
          "model_name": "LayoutModel",
          "model_module_version": "1.2.0",
          "state": {
            "_model_module": "@jupyter-widgets/base",
            "_model_module_version": "1.2.0",
            "_model_name": "LayoutModel",
            "_view_count": null,
            "_view_module": "@jupyter-widgets/base",
            "_view_module_version": "1.2.0",
            "_view_name": "LayoutView",
            "align_content": null,
            "align_items": null,
            "align_self": null,
            "border": null,
            "bottom": null,
            "display": null,
            "flex": null,
            "flex_flow": null,
            "grid_area": null,
            "grid_auto_columns": null,
            "grid_auto_flow": null,
            "grid_auto_rows": null,
            "grid_column": null,
            "grid_gap": null,
            "grid_row": null,
            "grid_template_areas": null,
            "grid_template_columns": null,
            "grid_template_rows": null,
            "height": null,
            "justify_content": null,
            "justify_items": null,
            "left": null,
            "margin": null,
            "max_height": null,
            "max_width": null,
            "min_height": null,
            "min_width": null,
            "object_fit": null,
            "object_position": null,
            "order": null,
            "overflow": null,
            "overflow_x": null,
            "overflow_y": null,
            "padding": null,
            "right": null,
            "top": null,
            "visibility": null,
            "width": null
          }
        },
        "cf19be5526a64fd3a497bf61746a4206": {
          "model_module": "@jupyter-widgets/controls",
          "model_name": "DescriptionStyleModel",
          "model_module_version": "1.5.0",
          "state": {
            "_model_module": "@jupyter-widgets/controls",
            "_model_module_version": "1.5.0",
            "_model_name": "DescriptionStyleModel",
            "_view_count": null,
            "_view_module": "@jupyter-widgets/base",
            "_view_module_version": "1.2.0",
            "_view_name": "StyleView",
            "description_width": ""
          }
        },
        "8187de8393f04885bca45aab7a53af2b": {
          "model_module": "@jupyter-widgets/base",
          "model_name": "LayoutModel",
          "model_module_version": "1.2.0",
          "state": {
            "_model_module": "@jupyter-widgets/base",
            "_model_module_version": "1.2.0",
            "_model_name": "LayoutModel",
            "_view_count": null,
            "_view_module": "@jupyter-widgets/base",
            "_view_module_version": "1.2.0",
            "_view_name": "LayoutView",
            "align_content": null,
            "align_items": null,
            "align_self": null,
            "border": null,
            "bottom": null,
            "display": null,
            "flex": null,
            "flex_flow": null,
            "grid_area": null,
            "grid_auto_columns": null,
            "grid_auto_flow": null,
            "grid_auto_rows": null,
            "grid_column": null,
            "grid_gap": null,
            "grid_row": null,
            "grid_template_areas": null,
            "grid_template_columns": null,
            "grid_template_rows": null,
            "height": null,
            "justify_content": null,
            "justify_items": null,
            "left": null,
            "margin": null,
            "max_height": null,
            "max_width": null,
            "min_height": null,
            "min_width": null,
            "object_fit": null,
            "object_position": null,
            "order": null,
            "overflow": null,
            "overflow_x": null,
            "overflow_y": null,
            "padding": null,
            "right": null,
            "top": null,
            "visibility": null,
            "width": null
          }
        },
        "e5f24b8d62b74790b071014a7080abe7": {
          "model_module": "@jupyter-widgets/controls",
          "model_name": "ProgressStyleModel",
          "model_module_version": "1.5.0",
          "state": {
            "_model_module": "@jupyter-widgets/controls",
            "_model_module_version": "1.5.0",
            "_model_name": "ProgressStyleModel",
            "_view_count": null,
            "_view_module": "@jupyter-widgets/base",
            "_view_module_version": "1.2.0",
            "_view_name": "StyleView",
            "bar_color": null,
            "description_width": ""
          }
        },
        "e02c6804f4bd4c16a73b6a64a7641704": {
          "model_module": "@jupyter-widgets/base",
          "model_name": "LayoutModel",
          "model_module_version": "1.2.0",
          "state": {
            "_model_module": "@jupyter-widgets/base",
            "_model_module_version": "1.2.0",
            "_model_name": "LayoutModel",
            "_view_count": null,
            "_view_module": "@jupyter-widgets/base",
            "_view_module_version": "1.2.0",
            "_view_name": "LayoutView",
            "align_content": null,
            "align_items": null,
            "align_self": null,
            "border": null,
            "bottom": null,
            "display": null,
            "flex": null,
            "flex_flow": null,
            "grid_area": null,
            "grid_auto_columns": null,
            "grid_auto_flow": null,
            "grid_auto_rows": null,
            "grid_column": null,
            "grid_gap": null,
            "grid_row": null,
            "grid_template_areas": null,
            "grid_template_columns": null,
            "grid_template_rows": null,
            "height": null,
            "justify_content": null,
            "justify_items": null,
            "left": null,
            "margin": null,
            "max_height": null,
            "max_width": null,
            "min_height": null,
            "min_width": null,
            "object_fit": null,
            "object_position": null,
            "order": null,
            "overflow": null,
            "overflow_x": null,
            "overflow_y": null,
            "padding": null,
            "right": null,
            "top": null,
            "visibility": null,
            "width": null
          }
        },
        "646a6b93342242379184c84ff9806036": {
          "model_module": "@jupyter-widgets/controls",
          "model_name": "DescriptionStyleModel",
          "model_module_version": "1.5.0",
          "state": {
            "_model_module": "@jupyter-widgets/controls",
            "_model_module_version": "1.5.0",
            "_model_name": "DescriptionStyleModel",
            "_view_count": null,
            "_view_module": "@jupyter-widgets/base",
            "_view_module_version": "1.2.0",
            "_view_name": "StyleView",
            "description_width": ""
          }
        }
      }
    }
  },
  "nbformat": 4,
  "nbformat_minor": 0
}